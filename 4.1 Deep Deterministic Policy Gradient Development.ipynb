{
 "cells": [
  {
   "cell_type": "markdown",
   "source": [
    "# Training Deep Deterministic Policy Gradient"
   ],
   "metadata": {
    "collapsed": false
   },
   "id": "635ee0d2d6bab21d"
  },
  {
   "cell_type": "code",
   "execution_count": 1,
   "outputs": [],
   "source": [
    "import time\n",
    "import pandas as pd\n",
    "import matplotlib as mpl\n",
    "\n",
    "from tqdm import tqdm\n",
    "from datetime import datetime\n",
    "\n",
    "from api.definer.core import *\n",
    "from api.definer.ddpg import *\n",
    "from api.definer.data import graph\n",
    "\n",
    "import warnings\n",
    "warnings.simplefilter(\"ignore\")\n",
    "mpl.style.use('default')"
   ],
   "metadata": {
    "collapsed": false,
    "ExecuteTime": {
     "end_time": "2024-01-16T09:41:13.171833Z",
     "start_time": "2024-01-16T09:41:11.139234Z"
    }
   },
   "id": "959a03f405e105"
  },
  {
   "cell_type": "code",
   "execution_count": 2,
   "outputs": [],
   "source": [
    "LIVE = False\n",
    "SAVE = False\n",
    "AROUND = True"
   ],
   "metadata": {
    "collapsed": false,
    "ExecuteTime": {
     "end_time": "2024-01-16T09:41:13.181178Z",
     "start_time": "2024-01-16T09:41:13.173922Z"
    }
   },
   "id": "3697a45bea3df936"
  },
  {
   "cell_type": "code",
   "execution_count": 3,
   "outputs": [],
   "source": [
    "# USDC-ETH 0.05% Uniswap V3 pool on Ethereum chain\n",
    "if LIVE:\n",
    "    address = \"0x88e6a0c2ddd26feeb64f039a2c41296fcb3f5640\"\n",
    "    after = '2022-01-01'\n",
    "    dpd = graph(address, int(datetime.timestamp(datetime.strptime(after, \"%Y-%m-%d\"))))\n",
    "    # dpd.to_csv('./data/uniswap_v3_usdc_eth.csv')\n",
    "else:\n",
    "    dpd = pd.read_csv('./data/uniswap_v3_usdc_eth.csv', index_col=[0])"
   ],
   "metadata": {
    "collapsed": false,
    "ExecuteTime": {
     "end_time": "2024-01-16T09:41:13.189679Z",
     "start_time": "2024-01-16T09:41:13.179467Z"
    }
   },
   "id": "801ed36267a3b6a3"
  },
  {
   "cell_type": "code",
   "execution_count": 4,
   "outputs": [
    {
     "name": "stdout",
     "output_type": "stream",
     "text": [
      "1995.8472015960615\n"
     ]
    }
   ],
   "source": [
    "decimal0 = dpd.iloc[0]['pool.token0.decimals']\n",
    "decimal1 = dpd.iloc[0]['pool.token1.decimals']\n",
    "decimal = decimal1 - decimal0\n",
    "dpd['fg0'] = ((dpd['feeGrowthGlobal0X128']) / (2 ** 128)) / (10 ** decimal0)\n",
    "dpd['fg1'] = ((dpd['feeGrowthGlobal1X128']) / (2 ** 128)) / (10 ** decimal1)\n",
    "dpd['fg0shift'] = dpd['fg0'].shift(-1)\n",
    "dpd['fg1shift'] = dpd['fg1'].shift(-1)\n",
    "dpd['fee0token'] = dpd['fg0'] - dpd['fg0shift']\n",
    "dpd['fee1token'] = dpd['fg1'] - dpd['fg1shift']\n",
    "print(dpd['close'].iloc[-1])"
   ],
   "metadata": {
    "collapsed": false,
    "ExecuteTime": {
     "end_time": "2024-01-16T09:41:13.203341Z",
     "start_time": "2024-01-16T09:41:13.195451Z"
    }
   },
   "id": "12e5be7b34e98c3b"
  },
  {
   "cell_type": "markdown",
   "source": [
    "## Training"
   ],
   "metadata": {
    "collapsed": false
   },
   "id": "c25be12690474ca2"
  },
  {
   "cell_type": "code",
   "execution_count": 5,
   "outputs": [],
   "source": [
    "EPISODES = 2\n",
    "EP_STEPS = 1000 - 2\n",
    "\n",
    "MEMORY_CAPACITY = 500\n",
    "\n",
    "s_dim = 2\n",
    "a_dim = 2\n",
    "a_high_bound = 10\n",
    "a_low_bound = -10\n",
    "\n",
    "ddpg = DDPG(a_dim, s_dim, a_high_bound)\n",
    "var = 1  # the controller of exploration which will decay during training process\n",
    "\n",
    "n = 1\n",
    "mini = 1500\n",
    "maxi = 2500\n",
    "target = dpd['close'].iloc[-1] * n\n",
    "base = 0"
   ],
   "metadata": {
    "collapsed": false,
    "ExecuteTime": {
     "end_time": "2024-01-16T09:41:13.214273Z",
     "start_time": "2024-01-16T09:41:13.203216Z"
    }
   },
   "id": "68ed10df3199f91a"
  },
  {
   "cell_type": "code",
   "execution_count": 6,
   "outputs": [],
   "source": [
    "SMIN, SMAX = np.sqrt(mini * 10 ** decimal), np.sqrt(maxi * 10 ** decimal)\n",
    "amount0, amount1, deltaL = get_initial_wealth(base, dpd, decimal, SMIN, SMAX, target)\n",
    "liq = get_liquidity(dpd['price0'].iloc[-1], mini, maxi, amount0, amount1, decimal0, decimal1)\n",
    "dpd_step = get_fee(dpd, base, mini, maxi, liq, decimal0, decimal1, decimal)"
   ],
   "metadata": {
    "collapsed": false,
    "ExecuteTime": {
     "end_time": "2024-01-16T09:41:13.672940Z",
     "start_time": "2024-01-16T09:41:13.209049Z"
    }
   },
   "id": "fad08ba4eabe071e"
  },
  {
   "cell_type": "code",
   "execution_count": 7,
   "outputs": [
    {
     "data": {
      "text/plain": "1995.8472015960615"
     },
     "execution_count": 7,
     "metadata": {},
     "output_type": "execute_result"
    }
   ],
   "source": [
    "dpd.iloc[-1].close"
   ],
   "metadata": {
    "collapsed": false,
    "ExecuteTime": {
     "end_time": "2024-01-16T09:41:13.681748Z",
     "start_time": "2024-01-16T09:41:13.675729Z"
    }
   },
   "id": "6ee77bdd09c88063"
  },
  {
   "cell_type": "code",
   "execution_count": 8,
   "outputs": [],
   "source": [
    "p_mean = dpd.iloc[-1].close\n",
    "p_std = dpd.close.std()\n",
    "v_mean = dpd.iloc[-1].amountV\n",
    "v_std = dpd.amountV.std()"
   ],
   "metadata": {
    "collapsed": false,
    "ExecuteTime": {
     "end_time": "2024-01-16T09:41:13.692718Z",
     "start_time": "2024-01-16T09:41:13.682122Z"
    }
   },
   "id": "46f0a36895631752"
  },
  {
   "cell_type": "code",
   "execution_count": 9,
   "outputs": [
    {
     "name": "stderr",
     "output_type": "stream",
     "text": [
      "episode: 1, step reward: 0.168 \t: 100%|██████████| 998/998 [06:47<00:00,  2.45it/s]\n"
     ]
    },
    {
     "name": "stdout",
     "output_type": "stream",
     "text": [
      "Episode:  1 \t Reward: 195 \t Explore: 0.61\n"
     ]
    },
    {
     "name": "stderr",
     "output_type": "stream",
     "text": [
      "episode: 2, step reward: 0.787 \t: 100%|██████████| 998/998 [07:17<00:00,  2.28it/s] "
     ]
    },
    {
     "name": "stdout",
     "output_type": "stream",
     "text": [
      "Episode:  2 \t Reward: 679 \t Explore: 0.22\n",
      "Running time:  845.1363971233368\n"
     ]
    },
    {
     "name": "stderr",
     "output_type": "stream",
     "text": [
      "\n"
     ]
    }
   ],
   "source": [
    "t1 = time.time()\n",
    "\n",
    "r_list = []\n",
    "\n",
    "for i in range(EPISODES):\n",
    "    \n",
    "    s = np.array([\n",
    "        (dpd.iloc[-1].close - p_mean) / p_std,\n",
    "        (dpd.iloc[-1].amountV - v_mean) / v_std\n",
    "    ])\n",
    "    ep_r = 0\n",
    "    ep_r_list = []\n",
    "    \n",
    "    r = 0\n",
    "    \n",
    "    pbar = tqdm(range(EP_STEPS))\n",
    "    for j in pbar:\n",
    "        \n",
    "        pbar.set_description(\"episode: {}, step reward: {} \\t\".format(i + 1, round(r, 3)))\n",
    "        \n",
    "        dpd_step = dpd.iloc[:-(j + 1)]\n",
    "        target = dpd_step['close'].iloc[-1] * n\n",
    "        \n",
    "        p_mean = dpd_step.iloc[-1].close\n",
    "        v_mean = dpd_step.iloc[-1].amountV\n",
    "        \n",
    "        a = ddpg.choose_action(s)\n",
    "        a = np.clip(np.random.normal(a, var), a_low_bound, a_high_bound)\n",
    "        (a[0], a[1]) = (a[1], a[0]) if a[0] > a[1] else (a[0], a[1])\n",
    "        if a[0] == a[1]: a[1] += 0.000001\n",
    "        # a[0] = np.clip(a[0], a_low_bound, min(a_high_bound, dpd_step['close'].iloc[-1] / 1000))\n",
    "        # a[1] = np.clip(a[1], max(a_low_bound, dpd_step['close'].iloc[-1] / 1000), a_high_bound)\n",
    "        \n",
    "        # action = a * 1000\n",
    "        action = a * p_std + p_mean\n",
    "        mini, maxi = action[0], action[1]\n",
    "        SMIN, SMAX = np.sqrt(mini * 10 ** decimal), np.sqrt(maxi * 10 ** decimal)\n",
    "        \n",
    "        amount0, amount1, deltaL = get_initial_wealth(base, dpd_step, decimal, SMIN, SMAX, target)\n",
    "        liq = get_liquidity(dpd_step['price0'].iloc[-1], mini, maxi, amount0, amount1, decimal0, decimal1)\n",
    "        dpd_step = get_fee(dpd_step, base, mini, maxi, liq, decimal0, decimal1, decimal)\n",
    "        \n",
    "        state_next = dpd_step.iloc[-2]\n",
    "        s_ = np.array([\n",
    "            (state_next.close - p_mean) / p_std,\n",
    "            (state_next.amountV - v_mean) / v_std\n",
    "        ])\n",
    "        r = state_next.feeusd\n",
    "        # print('step: {} \\t reward: {}'.format(episode, r))\n",
    "        \n",
    "        # if r > 0.0001:\n",
    "        ddpg.store_transition(s, a, r, s_) # store the transition to memory\n",
    "        # print(s.round(3), a.round(3), round(r, 3), s_.round(3))\n",
    "        # print('ddpg.pointer:', ddpg.pointer)\n",
    "        \n",
    "        if ddpg.pointer > MEMORY_CAPACITY:\n",
    "            var *= 0.999 # decay the exploration controller factor\n",
    "            ddpg.learn()\n",
    "            \n",
    "        s = s_\n",
    "        ep_r += r\n",
    "        ep_r_list.append(r)\n",
    "        \n",
    "        # print('step: {} \\t reward: {} \\t action: [{}, {}]'.\n",
    "        #       format(j, round(r, 4), round(mini, 2), round(maxi, 2)))\n",
    "        \n",
    "    print('Episode: ', i + 1, '\\t Reward: %i' % ep_r, '\\t Explore: %.2f' % var)\n",
    "    \n",
    "    r_list.append(ep_r_list)\n",
    "\n",
    "print('Running time: ', time.time() - t1)"
   ],
   "metadata": {
    "collapsed": false,
    "ExecuteTime": {
     "end_time": "2024-01-16T09:55:18.838132Z",
     "start_time": "2024-01-16T09:41:13.696583Z"
    }
   },
   "id": "731e41b280d1ad09"
  },
  {
   "cell_type": "code",
   "execution_count": 18,
   "outputs": [],
   "source": [
    "pd.DataFrame(r_list).to_csv('./results/ddpg_training_rewards.csv')"
   ],
   "metadata": {
    "collapsed": false,
    "ExecuteTime": {
     "end_time": "2024-01-16T10:21:31.475947Z",
     "start_time": "2024-01-16T10:21:31.462613Z"
    }
   },
   "id": "205a7ac03168108b"
  },
  {
   "cell_type": "markdown",
   "source": [
    "## Inference"
   ],
   "metadata": {
    "collapsed": false
   },
   "id": "9031ff8904d84c18"
  },
  {
   "cell_type": "code",
   "execution_count": 11,
   "outputs": [
    {
     "name": "stderr",
     "output_type": "stream",
     "text": [
      "step reward: 3.608 \t: 100%|██████████| 996/996 [06:19<00:00,  2.63it/s] \n"
     ]
    }
   ],
   "source": [
    "a_list = []\n",
    "\n",
    "s = np.array([\n",
    "    (dpd.iloc[-1].close - p_mean) / p_std,\n",
    "    (dpd.iloc[-1].amountV - v_mean) / v_std\n",
    "])\n",
    "ep_r = 0\n",
    "\n",
    "r = 0\n",
    "\n",
    "pbar = tqdm(range(EP_STEPS - 2))\n",
    "for j in pbar:\n",
    "    \n",
    "    step_dict = {}\n",
    "    \n",
    "    pbar.set_description(\"step reward: {} \\t\".format(round(r, 3)))\n",
    "    \n",
    "    dpd_step = dpd.iloc[:-(j + 1)]\n",
    "    target = dpd_step['close'].iloc[-1] * n\n",
    "    \n",
    "    p_mean = dpd_step.iloc[-1].close\n",
    "    v_mean = dpd_step.iloc[-1].amountV\n",
    "    \n",
    "    a = ddpg.choose_action(s)\n",
    "    a = np.clip(np.random.normal(a, 0), a_low_bound, a_high_bound)\n",
    "    (a[0], a[1]) = (a[1], a[0]) if a[0] > a[1] else (a[0], a[1])\n",
    "    if a[0] == a[1]: a[1] += 0.000001\n",
    "\n",
    "    action = a * p_std + p_mean\n",
    "    mini, maxi = action[0], action[1]\n",
    "    SMIN, SMAX = np.sqrt(mini * 10 ** decimal), np.sqrt(maxi * 10 ** decimal)\n",
    "    \n",
    "    step_dict['mini'] = action[0]\n",
    "    step_dict['maxi'] = action[1]\n",
    "    step_dict['price'] = dpd_step['close'].iloc[-1]\n",
    "    \n",
    "    amount0, amount1, deltaL = get_initial_wealth(base, dpd_step, decimal, SMIN, SMAX, target)\n",
    "    liq = get_liquidity(dpd_step['price0'].iloc[-1], mini, maxi, amount0, amount1, decimal0, decimal1)\n",
    "    dpd_step = get_fee(dpd_step, base, mini, maxi, liq, decimal0, decimal1, decimal)\n",
    "    \n",
    "    state_next = dpd_step.iloc[-2]\n",
    "    s_ = np.array([\n",
    "        (state_next.close - p_mean) / p_std,\n",
    "        (state_next.amountV - v_mean) / v_std\n",
    "    ])\n",
    "    r = state_next.feeusd\n",
    "        \n",
    "    s = s_\n",
    "    ep_r += r\n",
    "    \n",
    "    step_dict['feeusd'] = r\n",
    "    \n",
    "    a_list.append(step_dict)"
   ],
   "metadata": {
    "collapsed": false,
    "ExecuteTime": {
     "end_time": "2024-01-16T10:01:38.624279Z",
     "start_time": "2024-01-16T09:55:19.213916Z"
    }
   },
   "id": "13ba225d8c99e293"
  },
  {
   "cell_type": "code",
   "execution_count": 17,
   "outputs": [],
   "source": [
    "pd.DataFrame(a_list).to_csv('./results/ddpg_actions.csv')"
   ],
   "metadata": {
    "collapsed": false,
    "ExecuteTime": {
     "end_time": "2024-01-16T10:21:13.474406Z",
     "start_time": "2024-01-16T10:21:13.442414Z"
    }
   },
   "id": "29ea8a071e5cff04"
  },
  {
   "cell_type": "code",
   "execution_count": 13,
   "outputs": [
    {
     "data": {
      "text/plain": "1388.2507175362184"
     },
     "execution_count": 13,
     "metadata": {},
     "output_type": "execute_result"
    }
   ],
   "source": [
    "pd.DataFrame(a_list).feeusd.sum()"
   ],
   "metadata": {
    "collapsed": false,
    "ExecuteTime": {
     "end_time": "2024-01-16T10:01:38.666688Z",
     "start_time": "2024-01-16T10:01:38.644218Z"
    }
   },
   "id": "1a7e14282d1e711e"
  },
  {
   "cell_type": "code",
   "execution_count": 21,
   "outputs": [],
   "source": [
    "torch.save(ddpg.actor_eval.state_dict(), './results/ddpg_actor_eval.pt')\n",
    "torch.save(ddpg.actor_target.state_dict(), './results/ddpg_actor_target.pt')\n",
    "torch.save(ddpg.critic_eval.state_dict(), './results/ddpg_critic_eval.pt')\n",
    "torch.save(ddpg.critic_target.state_dict(), './results/ddpg_critic_target.pt')"
   ],
   "metadata": {
    "collapsed": false,
    "ExecuteTime": {
     "end_time": "2024-01-16T10:24:10.282290Z",
     "start_time": "2024-01-16T10:24:10.265962Z"
    }
   },
   "id": "e68bb87073e081af"
  }
 ],
 "metadata": {
  "kernelspec": {
   "display_name": "Python 3",
   "language": "python",
   "name": "python3"
  },
  "language_info": {
   "codemirror_mode": {
    "name": "ipython",
    "version": 2
   },
   "file_extension": ".py",
   "mimetype": "text/x-python",
   "name": "python",
   "nbconvert_exporter": "python",
   "pygments_lexer": "ipython2",
   "version": "2.7.6"
  }
 },
 "nbformat": 4,
 "nbformat_minor": 5
}
