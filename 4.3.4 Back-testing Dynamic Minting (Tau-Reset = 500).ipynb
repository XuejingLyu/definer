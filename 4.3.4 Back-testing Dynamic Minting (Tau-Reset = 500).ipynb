{
 "cells": [
  {
   "cell_type": "markdown",
   "source": [
    "# Back-testing Hourly Dynamic Minting Strategy with DDPG Model"
   ],
   "metadata": {
    "collapsed": false
   },
   "id": "635ee0d2d6bab21d"
  },
  {
   "cell_type": "code",
   "execution_count": 1,
   "outputs": [],
   "source": [
    "import random\n",
    "import time\n",
    "import pandas as pd\n",
    "import matplotlib as mpl\n",
    "import seaborn as sns\n",
    "import matplotlib.pyplot as plt\n",
    "\n",
    "from tqdm import tqdm\n",
    "from datetime import datetime\n",
    "\n",
    "from api.definer.core import *\n",
    "from api.definer.ddpg import *\n",
    "from api.definer.data import graph\n",
    "\n",
    "import warnings\n",
    "warnings.simplefilter(\"ignore\")\n",
    "mpl.style.use('default')"
   ],
   "metadata": {
    "collapsed": false,
    "ExecuteTime": {
     "end_time": "2024-01-17T07:54:52.941962Z",
     "start_time": "2024-01-17T07:54:50.854835Z"
    }
   },
   "id": "959a03f405e105"
  },
  {
   "cell_type": "code",
   "execution_count": 2,
   "outputs": [
    {
     "name": "stdout",
     "output_type": "stream",
     "text": [
      "Set random seed: 0\n"
     ]
    }
   ],
   "source": [
    "random_state = 0\n",
    "random.seed(random_state)\n",
    "np.random.seed(random_state)\n",
    "torch.random.manual_seed(random_state)\n",
    "\n",
    "print('Set random seed: {}'.format(random_state))"
   ],
   "metadata": {
    "collapsed": false,
    "ExecuteTime": {
     "end_time": "2024-01-17T07:54:52.955733Z",
     "start_time": "2024-01-17T07:54:52.945445Z"
    }
   },
   "id": "bdcc022721712611"
  },
  {
   "cell_type": "code",
   "execution_count": 3,
   "outputs": [],
   "source": [
    "LIVE = False\n",
    "SAVE = True"
   ],
   "metadata": {
    "collapsed": false,
    "ExecuteTime": {
     "end_time": "2024-01-17T07:54:52.957100Z",
     "start_time": "2024-01-17T07:54:52.952868Z"
    }
   },
   "id": "3697a45bea3df936"
  },
  {
   "cell_type": "markdown",
   "source": [
    "## Collect Historical Data in USDC-ETH 0.05% Uniswap V3 pool"
   ],
   "metadata": {
    "collapsed": false
   },
   "id": "f1201673146d1adf"
  },
  {
   "cell_type": "code",
   "execution_count": 4,
   "outputs": [],
   "source": [
    "# USDC-ETH 0.05% Uniswap V3 pool on Ethereum chain\n",
    "if LIVE:\n",
    "    address = \"0x88e6a0c2ddd26feeb64f039a2c41296fcb3f5640\"\n",
    "    after = '2022-01-01'\n",
    "    dpd = graph(address, int(datetime.timestamp(datetime.strptime(after, \"%Y-%m-%d\"))))\n",
    "    # dpd.to_csv('./data/uniswap_v3_usdc_eth.csv')\n",
    "else:\n",
    "    dpd = pd.read_csv('./data/uniswap_v3_usdc_eth.csv', index_col=[0])"
   ],
   "metadata": {
    "collapsed": false,
    "ExecuteTime": {
     "end_time": "2024-01-17T07:54:52.983537Z",
     "start_time": "2024-01-17T07:54:52.959230Z"
    }
   },
   "id": "801ed36267a3b6a3"
  },
  {
   "cell_type": "code",
   "execution_count": 5,
   "outputs": [
    {
     "name": "stdout",
     "output_type": "stream",
     "text": [
      "starting price: 1995.8472015960615\n"
     ]
    }
   ],
   "source": [
    "decimal0 = dpd.iloc[0]['pool.token0.decimals']\n",
    "decimal1 = dpd.iloc[0]['pool.token1.decimals']\n",
    "decimal = decimal1 - decimal0\n",
    "dpd['fg0'] = ((dpd['feeGrowthGlobal0X128']) / (2 ** 128)) / (10 ** decimal0)\n",
    "dpd['fg1'] = ((dpd['feeGrowthGlobal1X128']) / (2 ** 128)) / (10 ** decimal1)\n",
    "dpd['fg0shift'] = dpd['fg0'].shift(-1)\n",
    "dpd['fg1shift'] = dpd['fg1'].shift(-1)\n",
    "dpd['fee0token'] = dpd['fg0'] - dpd['fg0shift']\n",
    "dpd['fee1token'] = dpd['fg1'] - dpd['fg1shift']\n",
    "print('starting price:', dpd['close'].iloc[-1])"
   ],
   "metadata": {
    "collapsed": false,
    "ExecuteTime": {
     "end_time": "2024-01-17T07:54:52.994031Z",
     "start_time": "2024-01-17T07:54:52.981403Z"
    }
   },
   "id": "12e5be7b34e98c3b"
  },
  {
   "cell_type": "code",
   "execution_count": 6,
   "outputs": [],
   "source": [
    "base = 0\n",
    "n = 1\n",
    "mini = 1900\n",
    "maxi = 2250\n",
    "target = dpd['close'].iloc[-1] * n"
   ],
   "metadata": {
    "collapsed": false,
    "ExecuteTime": {
     "end_time": "2024-01-17T07:54:52.994461Z",
     "start_time": "2024-01-17T07:54:52.985611Z"
    }
   },
   "id": "68ed10df3199f91a"
  },
  {
   "cell_type": "code",
   "execution_count": 7,
   "outputs": [],
   "source": [
    "SMIN, SMAX = np.sqrt(mini * 10 ** decimal), np.sqrt(maxi * 10 ** decimal)\n",
    "amount0, amount1, deltaL = get_initial_wealth(base, dpd, decimal, SMIN, SMAX, target)\n",
    "liq = get_liquidity(dpd['price0'].iloc[-1], mini, maxi, amount0, amount1, decimal0, decimal1)\n",
    "dpd = get_fee(dpd, base, mini, maxi, liq, decimal0, decimal1, decimal)"
   ],
   "metadata": {
    "collapsed": false,
    "ExecuteTime": {
     "end_time": "2024-01-17T07:54:53.448412Z",
     "start_time": "2024-01-17T07:54:52.996376Z"
    }
   },
   "id": "fad08ba4eabe071e"
  },
  {
   "cell_type": "code",
   "execution_count": 8,
   "outputs": [],
   "source": [
    "p_std = dpd.close.std()\n",
    "v_std = dpd.amountV.std()\n",
    "p_mean = dpd.close.mean()\n",
    "v_mean = dpd.amountV.mean()"
   ],
   "metadata": {
    "collapsed": false,
    "ExecuteTime": {
     "end_time": "2024-01-17T07:54:53.453721Z",
     "start_time": "2024-01-17T07:54:53.449667Z"
    }
   },
   "id": "46f0a36895631752"
  },
  {
   "cell_type": "markdown",
   "source": [
    "## Load Trained DDPG Model"
   ],
   "metadata": {
    "collapsed": false
   },
   "id": "66a7b2ba7b3a0608"
  },
  {
   "cell_type": "code",
   "execution_count": 9,
   "outputs": [
    {
     "data": {
      "text/plain": "<All keys matched successfully>"
     },
     "execution_count": 9,
     "metadata": {},
     "output_type": "execute_result"
    }
   ],
   "source": [
    "EPISODES = 2\n",
    "EP_STEPS = 1000 - 2\n",
    "MEMORY_CAPACITY = 500\n",
    "\n",
    "tau = 500\n",
    "\n",
    "s_dim = 2\n",
    "a_dim = 2\n",
    "a_high_bound = 10\n",
    "a_low_bound = -10\n",
    "\n",
    "ddpg = DDPG(a_dim, s_dim, a_high_bound)\n",
    "\n",
    "ddpg.actor_eval.load_state_dict(torch.load('./results/ddpg_actor_eval.pt'))\n",
    "ddpg.actor_target.load_state_dict(torch.load('./results/ddpg_actor_target.pt'))\n",
    "ddpg.critic_eval.load_state_dict(torch.load('./results/ddpg_critic_eval.pt'))\n",
    "ddpg.critic_target.load_state_dict(torch.load('./results/ddpg_critic_target.pt'))"
   ],
   "metadata": {
    "collapsed": false,
    "ExecuteTime": {
     "end_time": "2024-01-17T07:54:53.471560Z",
     "start_time": "2024-01-17T07:54:53.456186Z"
    }
   },
   "id": "247784db22ad1595"
  },
  {
   "cell_type": "code",
   "execution_count": 10,
   "outputs": [
    {
     "name": "stderr",
     "output_type": "stream",
     "text": [
      "step reward: 0.117 \t: 100%|██████████| 998/998 [00:01<00:00, 499.33it/s]\n"
     ]
    }
   ],
   "source": [
    "dpd_step = dpd.copy()\n",
    "\n",
    "a_list = []\n",
    "\n",
    "s = np.array([\n",
    "    (dpd.iloc[-1].close - p_mean) / p_std,\n",
    "    (dpd.iloc[-1].amountV - v_mean) / v_std\n",
    "])\n",
    "\n",
    "ep_r = 0\n",
    "r = 0\n",
    "eta = 0.01\n",
    "\n",
    "price_mark = dpd_step.iloc[-1].close\n",
    "\n",
    "pbar = tqdm(range(EP_STEPS))\n",
    "for j in pbar:\n",
    "    \n",
    "    step_dict = {}\n",
    "    pbar.set_description(\"step reward: {} \\t\".format(round(r, 3)))\n",
    "    \n",
    "    dpd_step = dpd_step.iloc[:-1]\n",
    "    price_now = dpd_step.iloc[-1].close\n",
    "    \n",
    "    if abs(price_now - price_mark) > tau:\n",
    "        \n",
    "        target = (1 - eta) * dpd_step['amountV'].iloc[-1]\n",
    "        \n",
    "        # p_mean = dpd_step.iloc[-1].close\n",
    "        # v_mean = dpd_step.iloc[-1].amountV\n",
    "        \n",
    "        a = ddpg.choose_action(s)\n",
    "        a = np.clip(np.random.normal(a, 0), a_low_bound, a_high_bound)\n",
    "        (a[0], a[1]) = (a[1], a[0]) if a[0] > a[1] else (a[0], a[1])\n",
    "        if a[0] == a[1]: a[1] += 0.000001\n",
    "    \n",
    "        action = a * p_std + dpd_step.iloc[-1].close\n",
    "        mini, maxi = action[0], action[1]\n",
    "        SMIN, SMAX = np.sqrt(mini * 10 ** decimal), np.sqrt(maxi * 10 ** decimal)\n",
    "        \n",
    "        amount0, amount1, deltaL = get_initial_wealth(base, dpd_step, decimal, SMIN, SMAX, target)\n",
    "        liq = get_liquidity(dpd_step['price0'].iloc[-1], mini, maxi, amount0, amount1, decimal0, decimal1)\n",
    "        dpd_step = get_fee(dpd_step, base, mini, maxi, liq, decimal0, decimal1, decimal)\n",
    "        \n",
    "        price_mark = price_now\n",
    "    \n",
    "    step_dict['mini'] = mini\n",
    "    step_dict['maxi'] = maxi\n",
    "    step_dict['price'] = dpd_step['close'].iloc[-1]\n",
    "    \n",
    "    state_next = dpd_step.iloc[-2]\n",
    "    s_ = np.array([\n",
    "        (state_next.close - p_mean) / p_std,\n",
    "        (state_next.amountV - v_mean) / v_std\n",
    "    ])\n",
    "    r = state_next.feeusd\n",
    "        \n",
    "    s = s_\n",
    "    ep_r += r\n",
    "    \n",
    "    step_dict['feeusd'] = r \n",
    "    a_list.append(step_dict)"
   ],
   "metadata": {
    "collapsed": false,
    "ExecuteTime": {
     "end_time": "2024-01-17T07:54:55.530221Z",
     "start_time": "2024-01-17T07:54:53.476531Z"
    }
   },
   "id": "13ba225d8c99e293"
  },
  {
   "cell_type": "code",
   "execution_count": 11,
   "outputs": [],
   "source": [
    "if SAVE: pd.DataFrame(a_list).to_csv('./results/ddpg_actions_tau{}.csv'.format(tau))"
   ],
   "metadata": {
    "collapsed": false,
    "ExecuteTime": {
     "end_time": "2024-01-17T07:54:55.547298Z",
     "start_time": "2024-01-17T07:54:55.509735Z"
    }
   },
   "id": "f2546eda959b5d8"
  },
  {
   "cell_type": "markdown",
   "source": [
    "## Visualization"
   ],
   "metadata": {
    "collapsed": false
   },
   "id": "274f395bb5e9c27"
  },
  {
   "cell_type": "code",
   "execution_count": 12,
   "outputs": [
    {
     "data": {
      "text/plain": "   mini  maxi        price    feeusd  periodStartUnix     liquidity  \\\n0  1900  2250  2014.490845  0.047487     1.701119e+09  2.582512e+19   \n1  1900  2250  2021.155534  0.059425     1.701122e+09  2.569357e+19   \n2  1900  2250  2027.494168  0.096277     1.701126e+09  2.584512e+19   \n3  1900  2250  2033.964624  0.038038     1.701130e+09  2.279386e+19   \n4  1900  2250  2027.757645  0.056539     1.701133e+09  2.588521e+19   \n\n          high          low        close  feeGrowthGlobal0X128  \\\n0  2017.917074  1995.832184  2014.490845          2.500188e+33   \n1  2021.157388  2013.370696  2021.155534          2.500210e+33   \n2  2028.429981  2021.134907  2027.494168          2.500234e+33   \n3  2038.939967  2024.358686  2033.964624          2.500271e+33   \n4  2033.957109  2025.841723  2027.757645          2.500277e+33   \n\n   feeGrowthGlobal1X128  pool.totalValueLockedUSD  \\\n0          1.213144e+42              3.823225e+08   \n1          1.213149e+42              3.823225e+08   \n2          1.213155e+42              3.823225e+08   \n3          1.213167e+42              3.823225e+08   \n4          1.213176e+42              3.823225e+08   \n\n   pool.totalValueLockedToken1  pool.totalValueLockedToken0  \\\n0                 74638.971438                 2.163832e+08   \n1                 74638.971438                 2.163832e+08   \n2                 74638.971438                 2.163832e+08   \n3                 74638.971438                 2.163832e+08   \n4                 74638.971438                 2.163832e+08   \n\n   pool.token0.decimals  pool.token1.decimals            datetime  \n0                   6.0                  18.0 2023-11-27 21:00:00  \n1                   6.0                  18.0 2023-11-27 22:00:00  \n2                   6.0                  18.0 2023-11-27 23:00:00  \n3                   6.0                  18.0 2023-11-28 00:00:00  \n4                   6.0                  18.0 2023-11-28 01:00:00  ",
      "text/html": "<div>\n<style scoped>\n    .dataframe tbody tr th:only-of-type {\n        vertical-align: middle;\n    }\n\n    .dataframe tbody tr th {\n        vertical-align: top;\n    }\n\n    .dataframe thead th {\n        text-align: right;\n    }\n</style>\n<table border=\"1\" class=\"dataframe\">\n  <thead>\n    <tr style=\"text-align: right;\">\n      <th></th>\n      <th>mini</th>\n      <th>maxi</th>\n      <th>price</th>\n      <th>feeusd</th>\n      <th>periodStartUnix</th>\n      <th>liquidity</th>\n      <th>high</th>\n      <th>low</th>\n      <th>close</th>\n      <th>feeGrowthGlobal0X128</th>\n      <th>feeGrowthGlobal1X128</th>\n      <th>pool.totalValueLockedUSD</th>\n      <th>pool.totalValueLockedToken1</th>\n      <th>pool.totalValueLockedToken0</th>\n      <th>pool.token0.decimals</th>\n      <th>pool.token1.decimals</th>\n      <th>datetime</th>\n    </tr>\n  </thead>\n  <tbody>\n    <tr>\n      <th>0</th>\n      <td>1900</td>\n      <td>2250</td>\n      <td>2014.490845</td>\n      <td>0.047487</td>\n      <td>1.701119e+09</td>\n      <td>2.582512e+19</td>\n      <td>2017.917074</td>\n      <td>1995.832184</td>\n      <td>2014.490845</td>\n      <td>2.500188e+33</td>\n      <td>1.213144e+42</td>\n      <td>3.823225e+08</td>\n      <td>74638.971438</td>\n      <td>2.163832e+08</td>\n      <td>6.0</td>\n      <td>18.0</td>\n      <td>2023-11-27 21:00:00</td>\n    </tr>\n    <tr>\n      <th>1</th>\n      <td>1900</td>\n      <td>2250</td>\n      <td>2021.155534</td>\n      <td>0.059425</td>\n      <td>1.701122e+09</td>\n      <td>2.569357e+19</td>\n      <td>2021.157388</td>\n      <td>2013.370696</td>\n      <td>2021.155534</td>\n      <td>2.500210e+33</td>\n      <td>1.213149e+42</td>\n      <td>3.823225e+08</td>\n      <td>74638.971438</td>\n      <td>2.163832e+08</td>\n      <td>6.0</td>\n      <td>18.0</td>\n      <td>2023-11-27 22:00:00</td>\n    </tr>\n    <tr>\n      <th>2</th>\n      <td>1900</td>\n      <td>2250</td>\n      <td>2027.494168</td>\n      <td>0.096277</td>\n      <td>1.701126e+09</td>\n      <td>2.584512e+19</td>\n      <td>2028.429981</td>\n      <td>2021.134907</td>\n      <td>2027.494168</td>\n      <td>2.500234e+33</td>\n      <td>1.213155e+42</td>\n      <td>3.823225e+08</td>\n      <td>74638.971438</td>\n      <td>2.163832e+08</td>\n      <td>6.0</td>\n      <td>18.0</td>\n      <td>2023-11-27 23:00:00</td>\n    </tr>\n    <tr>\n      <th>3</th>\n      <td>1900</td>\n      <td>2250</td>\n      <td>2033.964624</td>\n      <td>0.038038</td>\n      <td>1.701130e+09</td>\n      <td>2.279386e+19</td>\n      <td>2038.939967</td>\n      <td>2024.358686</td>\n      <td>2033.964624</td>\n      <td>2.500271e+33</td>\n      <td>1.213167e+42</td>\n      <td>3.823225e+08</td>\n      <td>74638.971438</td>\n      <td>2.163832e+08</td>\n      <td>6.0</td>\n      <td>18.0</td>\n      <td>2023-11-28 00:00:00</td>\n    </tr>\n    <tr>\n      <th>4</th>\n      <td>1900</td>\n      <td>2250</td>\n      <td>2027.757645</td>\n      <td>0.056539</td>\n      <td>1.701133e+09</td>\n      <td>2.588521e+19</td>\n      <td>2033.957109</td>\n      <td>2025.841723</td>\n      <td>2027.757645</td>\n      <td>2.500277e+33</td>\n      <td>1.213176e+42</td>\n      <td>3.823225e+08</td>\n      <td>74638.971438</td>\n      <td>2.163832e+08</td>\n      <td>6.0</td>\n      <td>18.0</td>\n      <td>2023-11-28 01:00:00</td>\n    </tr>\n  </tbody>\n</table>\n</div>"
     },
     "execution_count": 12,
     "metadata": {},
     "output_type": "execute_result"
    }
   ],
   "source": [
    "df = pd.read_csv('./results/ddpg_actions_tau{}.csv'.format(tau), index_col=[0])\n",
    "# df = pd.DataFrame(a_list)\n",
    "\n",
    "dpd = pd.read_csv('./data/uniswap_v3_usdc_eth.csv', index_col=[0])\n",
    "dpd['datetime'] = pd.to_datetime(dpd['periodStartUnix'], unit='s')\n",
    "# dpd.sort_values('datetime').iloc[1:-1]\n",
    "\n",
    "df = pd.concat([df, dpd.sort_values('datetime').iloc[1:-1].reset_index(drop=True)], axis=1)\n",
    "df.head()"
   ],
   "metadata": {
    "collapsed": false,
    "ExecuteTime": {
     "end_time": "2024-01-17T07:54:55.582506Z",
     "start_time": "2024-01-17T07:54:55.528684Z"
    }
   },
   "id": "5007ded2d2e05ac0"
  },
  {
   "cell_type": "code",
   "execution_count": 13,
   "outputs": [
    {
     "data": {
      "text/plain": "<Figure size 800x400 with 1 Axes>",
      "image/png": "[encoded data removed]"
     },
     "metadata": {},
     "output_type": "display_data"
    }
   ],
   "source": [
    "_ = plt.figure(figsize=(8,4))\n",
    "ax = sns.lineplot(x=df.datetime, y=df.mini, label='lower bound', color='#B96666')\n",
    "sns.lineplot(x=df.datetime, y=df.price, label='closing price', color='#242749', linestyle='-')\n",
    "sns.lineplot(x=df.datetime, y=df.maxi, label='upper bound', color='#DBAD4F')\n",
    "ax.fill_between(df.datetime, list(df.mini), list(df.maxi), color='#4B5569', alpha=0.3)\n",
    "\n",
    "plt.rcParams.update({'font.sans-serif':'DejaVu Sans'})\n",
    "\n",
    "plt.title('Dynamic Liquidity Provision from {} to {}'.format(\n",
    "    datetime.utcfromtimestamp(dpd.periodStartUnix.min()).strftime('%Y-%m-%d'), \n",
    "    datetime.utcfromtimestamp(dpd.periodStartUnix.max()).strftime('%Y-%m-%d')))\n",
    "plt.ylabel('CLosing Price & Minting Price Range')\n",
    "plt.xlabel(None)\n",
    "legend = plt.legend(ncol=3)\n",
    "legend.get_frame().set_alpha(None)\n",
    "legend.get_frame().set_facecolor((0, 0, 0, 0))\n",
    "if SAVE: plt.savefig('./img/dynamic_minting_tau{}.png'.format(tau), dpi=500, bbox_inches='tight', transparent=True)\n",
    "plt.show()"
   ],
   "metadata": {
    "collapsed": false,
    "ExecuteTime": {
     "end_time": "2024-01-17T07:54:57.618501Z",
     "start_time": "2024-01-17T07:54:55.588916Z"
    }
   },
   "id": "5c7a01dc58c6cba9"
  },
  {
   "cell_type": "code",
   "execution_count": 14,
   "outputs": [
    {
     "name": "stdout",
     "output_type": "stream",
     "text": [
      "Total fee earnings estimated with dynamic minting using DDPG: 89.16\n"
     ]
    }
   ],
   "source": [
    "print('Total fee earnings estimated with dynamic minting using DDPG:', round(df.feeusd.sum(), 2))"
   ],
   "metadata": {
    "collapsed": false,
    "ExecuteTime": {
     "end_time": "2024-01-17T07:54:57.620122Z",
     "start_time": "2024-01-17T07:54:57.615243Z"
    }
   },
   "id": "1a7e14282d1e711e"
  }
 ],
 "metadata": {
  "kernelspec": {
   "display_name": "Python 3",
   "language": "python",
   "name": "python3"
  },
  "language_info": {
   "codemirror_mode": {
    "name": "ipython",
    "version": 2
   },
   "file_extension": ".py",
   "mimetype": "text/x-python",
   "name": "python",
   "nbconvert_exporter": "python",
   "pygments_lexer": "ipython2",
   "version": "2.7.6"
  }
 },
 "nbformat": 4,
 "nbformat_minor": 5
}
