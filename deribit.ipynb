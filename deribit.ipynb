{
 "cells": [
  {
   "cell_type": "code",
   "execution_count": 1,
   "outputs": [],
   "source": [
    "import os\n",
    "import sys\n",
    "\n",
    "import pandas as pd\n",
    "import requests\n",
    "\n",
    "import time\n",
    "import json\n",
    "\n",
    "import seaborn as sns"
   ],
   "metadata": {
    "collapsed": false,
    "ExecuteTime": {
     "end_time": "2023-12-27T02:26:05.372612Z",
     "start_time": "2023-12-27T02:26:05.269573Z"
    }
   },
   "id": "4cc089acc9cc4c76"
  },
  {
   "cell_type": "code",
   "execution_count": 21,
   "outputs": [],
   "source": [
    "path_to_config = \"./strategies/delta-hedge/configs/concentrated_liquidity_config.json\"\n",
    "with open(path_to_config) as f:\n",
    "    config = json.load(f)\n",
    "\n",
    "deriv_params = {\n",
    "    \"asset\": config[\"asset\"],\n",
    "    \"initial_asset_price\": config[\"initial_asset_price\"],\n",
    "    \"long_only\": config[\"long_only\"],\n",
    "}"
   ],
   "metadata": {
    "collapsed": false,
    "ExecuteTime": {
     "end_time": "2023-12-24T05:03:29.953173Z",
     "start_time": "2023-12-24T05:03:27.942926Z"
    }
   },
   "id": "2e771a260c8c2d12"
  },
  {
   "cell_type": "code",
   "execution_count": 1,
   "outputs": [],
   "source": [
    "class Derivative:\n",
    "    def __init__(self, name, payoff_fun, bid, ask, info):\n",
    "        self.name = name\n",
    "        self.payoff_fun = payoff_fun\n",
    "        self.deribit_info = info\n",
    "        self.bid = bid\n",
    "        self.ask = ask"
   ],
   "metadata": {
    "collapsed": false,
    "ExecuteTime": {
     "end_time": "2023-12-24T04:38:00.311228Z",
     "start_time": "2023-12-24T04:38:00.306342Z"
    }
   },
   "id": "8aa75fca182438ad"
  },
  {
   "cell_type": "code",
   "execution_count": 15,
   "outputs": [
    {
     "name": "stdout",
     "output_type": "stream",
     "text": [
      "Total of 718 instruments for ETH available on Deribit\n"
     ]
    }
   ],
   "source": [
    "def retrieve_instruments(currency, expired=False):\n",
    "    assert currency in [\"ETH\", \"SOL\", \"BTC\"]\n",
    "    expired = \"true\" if expired else \"false\"\n",
    "    instruments = requests.get(\n",
    "        \"https://deribit.com/api/v2/public/get_book_summary_by_currency?currency={}&kind=option\".format(currency)\n",
    "    ).json()[\"result\"]\n",
    "    return instruments\n",
    "\n",
    "currency = 'ETH'\n",
    "instruments = retrieve_instruments(currency=currency)\n",
    "print('Total of {} instruments for {} available on Deribit'.format(len(instruments), currency))"
   ],
   "metadata": {
    "collapsed": false,
    "ExecuteTime": {
     "end_time": "2023-12-24T04:47:22.340943Z",
     "start_time": "2023-12-24T04:47:20.135774Z"
    }
   },
   "id": "1944ccaf0ca29be4"
  },
  {
   "cell_type": "code",
   "execution_count": 2,
   "outputs": [
    {
     "ename": "NameError",
     "evalue": "name 'instruments' is not defined",
     "output_type": "error",
     "traceback": [
      "\u001B[0;31m---------------------------------------------------------------------------\u001B[0m",
      "\u001B[0;31mNameError\u001B[0m                                 Traceback (most recent call last)",
      "Cell \u001B[0;32mIn [2], line 1\u001B[0m\n\u001B[0;32m----> 1\u001B[0m df_instrument \u001B[38;5;241m=\u001B[39m pd\u001B[38;5;241m.\u001B[39mDataFrame(\u001B[43minstruments\u001B[49m)\n\u001B[1;32m      2\u001B[0m df_instrument\u001B[38;5;241m.\u001B[39mto_csv(\u001B[38;5;124m'\u001B[39m\u001B[38;5;124m./data/deribit_instruments.csv\u001B[39m\u001B[38;5;124m'\u001B[39m)\n\u001B[1;32m      3\u001B[0m df_instrument\n",
      "\u001B[0;31mNameError\u001B[0m: name 'instruments' is not defined"
     ]
    }
   ],
   "source": [
    "df_instrument = pd.DataFrame(instruments)\n",
    "df_instrument.to_csv('./data/deribit_instruments.csv')\n",
    "df_instrument"
   ],
   "metadata": {
    "collapsed": false,
    "ExecuteTime": {
     "end_time": "2023-12-27T02:26:11.048581Z",
     "start_time": "2023-12-27T02:26:10.531856Z"
    }
   },
   "id": "6e668d1336fb7d9"
  },
  {
   "cell_type": "code",
   "execution_count": 3,
   "outputs": [
    {
     "data": {
      "text/plain": "     mid_price  estimated_delivery_price  volume_usd quote_currency  \\\n0      0.02975                   2307.91      274.52            ETH   \n1      0.02775                   2307.91    35078.64            ETH   \n2      0.00105                   2307.91       25.10            ETH   \n3      0.08325                   2307.91     4632.38            ETH   \n4      0.00040                   2307.91      293.38            ETH   \n..         ...                       ...         ...            ...   \n713    0.00015                   2307.91      116.33            ETH   \n714    0.00090                   2307.91        0.00            ETH   \n715    0.04650                   2307.91        0.00            ETH   \n716        NaN                   2307.91        0.00            ETH   \n717        NaN                   2307.91        0.00            ETH   \n\n     creation_timestamp base_currency  interest_rate  volume underlying_index  \\\n0         1703393241971           ETH            0.0     4.0      ETH-29MAR24   \n1         1703393241971           ETH            0.0   518.0  SYN.ETH-12JAN24   \n2         1703393241971           ETH            0.0    16.0  SYN.ETH-26DEC23   \n3         1703393241971           ETH            0.0    24.0  SYN.ETH-23FEB24   \n4         1703393241972           ETH            0.0   160.0  SYN.ETH-25DEC23   \n..                  ...           ...            ...     ...              ...   \n713       1703393241982           ETH            0.0   123.0  SYN.ETH-25DEC23   \n714       1703393241982           ETH            0.0     0.0      ETH-28JUN24   \n715       1703393241982           ETH            0.0     0.0  SYN.ETH-26DEC23   \n716       1703393241982           ETH            0.0     0.0  SYN.ETH-23FEB24   \n717       1703393241982           ETH            0.0     0.0  SYN.ETH-24DEC23   \n\n     underlying_price  price_change  mark_price  open_interest  ask_price  \\\n0         2388.450000        0.0000    0.029822        16106.0     0.0310   \n1         2328.810000       -8.3333    0.028009         1374.0     0.0280   \n2         2310.529823       75.0000    0.000997           16.0     0.0012   \n3         2362.832222        0.5952    0.083402         1052.0     0.0840   \n4         2309.236431      -84.0000    0.000375          141.0     0.0006   \n..                ...           ...         ...            ...        ...   \n713       2309.236431      -50.0000    0.000281          181.0     0.0002   \n714       2442.140000           NaN    0.000909          402.0     0.0015   \n715       2310.529823           NaN    0.051786            0.0     0.0630   \n716       2362.832222           NaN    0.452430            0.0        NaN   \n717       2307.943038           NaN    0.191537            0.0        NaN   \n\n     bid_price     instrument_name    last     low    high  \n0       0.0285  ETH-29MAR24-1800-P  0.0300  0.0300  0.0300  \n1       0.0275  ETH-12JAN24-2200-P  0.0275  0.0275  0.0300  \n2       0.0009  ETH-26DEC23-2500-C  0.0007  0.0004  0.0007  \n3       0.0825  ETH-23FEB24-2300-P  0.0845  0.0815  0.0845  \n4       0.0002  ETH-25DEC23-2225-P  0.0004  0.0004  0.0025  \n..         ...                 ...     ...     ...     ...  \n713     0.0001  ETH-25DEC23-2175-P  0.0003  0.0003  0.0006  \n714     0.0003   ETH-28JUN24-500-P  0.0015     NaN     NaN  \n715     0.0300  ETH-26DEC23-2425-P     NaN     NaN     NaN  \n716        NaN  ETH-23FEB24-1300-C     NaN     NaN     NaN  \n717        NaN  ETH-24DEC23-2750-P     NaN     NaN     NaN  \n\n[718 rows x 19 columns]",
      "text/html": "<div>\n<style scoped>\n    .dataframe tbody tr th:only-of-type {\n        vertical-align: middle;\n    }\n\n    .dataframe tbody tr th {\n        vertical-align: top;\n    }\n\n    .dataframe thead th {\n        text-align: right;\n    }\n</style>\n<table border=\"1\" class=\"dataframe\">\n  <thead>\n    <tr style=\"text-align: right;\">\n      <th></th>\n      <th>mid_price</th>\n      <th>estimated_delivery_price</th>\n      <th>volume_usd</th>\n      <th>quote_currency</th>\n      <th>creation_timestamp</th>\n      <th>base_currency</th>\n      <th>interest_rate</th>\n      <th>volume</th>\n      <th>underlying_index</th>\n      <th>underlying_price</th>\n      <th>price_change</th>\n      <th>mark_price</th>\n      <th>open_interest</th>\n      <th>ask_price</th>\n      <th>bid_price</th>\n      <th>instrument_name</th>\n      <th>last</th>\n      <th>low</th>\n      <th>high</th>\n    </tr>\n  </thead>\n  <tbody>\n    <tr>\n      <th>0</th>\n      <td>0.02975</td>\n      <td>2307.91</td>\n      <td>274.52</td>\n      <td>ETH</td>\n      <td>1703393241971</td>\n      <td>ETH</td>\n      <td>0.0</td>\n      <td>4.0</td>\n      <td>ETH-29MAR24</td>\n      <td>2388.450000</td>\n      <td>0.0000</td>\n      <td>0.029822</td>\n      <td>16106.0</td>\n      <td>0.0310</td>\n      <td>0.0285</td>\n      <td>ETH-29MAR24-1800-P</td>\n      <td>0.0300</td>\n      <td>0.0300</td>\n      <td>0.0300</td>\n    </tr>\n    <tr>\n      <th>1</th>\n      <td>0.02775</td>\n      <td>2307.91</td>\n      <td>35078.64</td>\n      <td>ETH</td>\n      <td>1703393241971</td>\n      <td>ETH</td>\n      <td>0.0</td>\n      <td>518.0</td>\n      <td>SYN.ETH-12JAN24</td>\n      <td>2328.810000</td>\n      <td>-8.3333</td>\n      <td>0.028009</td>\n      <td>1374.0</td>\n      <td>0.0280</td>\n      <td>0.0275</td>\n      <td>ETH-12JAN24-2200-P</td>\n      <td>0.0275</td>\n      <td>0.0275</td>\n      <td>0.0300</td>\n    </tr>\n    <tr>\n      <th>2</th>\n      <td>0.00105</td>\n      <td>2307.91</td>\n      <td>25.10</td>\n      <td>ETH</td>\n      <td>1703393241971</td>\n      <td>ETH</td>\n      <td>0.0</td>\n      <td>16.0</td>\n      <td>SYN.ETH-26DEC23</td>\n      <td>2310.529823</td>\n      <td>75.0000</td>\n      <td>0.000997</td>\n      <td>16.0</td>\n      <td>0.0012</td>\n      <td>0.0009</td>\n      <td>ETH-26DEC23-2500-C</td>\n      <td>0.0007</td>\n      <td>0.0004</td>\n      <td>0.0007</td>\n    </tr>\n    <tr>\n      <th>3</th>\n      <td>0.08325</td>\n      <td>2307.91</td>\n      <td>4632.38</td>\n      <td>ETH</td>\n      <td>1703393241971</td>\n      <td>ETH</td>\n      <td>0.0</td>\n      <td>24.0</td>\n      <td>SYN.ETH-23FEB24</td>\n      <td>2362.832222</td>\n      <td>0.5952</td>\n      <td>0.083402</td>\n      <td>1052.0</td>\n      <td>0.0840</td>\n      <td>0.0825</td>\n      <td>ETH-23FEB24-2300-P</td>\n      <td>0.0845</td>\n      <td>0.0815</td>\n      <td>0.0845</td>\n    </tr>\n    <tr>\n      <th>4</th>\n      <td>0.00040</td>\n      <td>2307.91</td>\n      <td>293.38</td>\n      <td>ETH</td>\n      <td>1703393241972</td>\n      <td>ETH</td>\n      <td>0.0</td>\n      <td>160.0</td>\n      <td>SYN.ETH-25DEC23</td>\n      <td>2309.236431</td>\n      <td>-84.0000</td>\n      <td>0.000375</td>\n      <td>141.0</td>\n      <td>0.0006</td>\n      <td>0.0002</td>\n      <td>ETH-25DEC23-2225-P</td>\n      <td>0.0004</td>\n      <td>0.0004</td>\n      <td>0.0025</td>\n    </tr>\n    <tr>\n      <th>...</th>\n      <td>...</td>\n      <td>...</td>\n      <td>...</td>\n      <td>...</td>\n      <td>...</td>\n      <td>...</td>\n      <td>...</td>\n      <td>...</td>\n      <td>...</td>\n      <td>...</td>\n      <td>...</td>\n      <td>...</td>\n      <td>...</td>\n      <td>...</td>\n      <td>...</td>\n      <td>...</td>\n      <td>...</td>\n      <td>...</td>\n      <td>...</td>\n    </tr>\n    <tr>\n      <th>713</th>\n      <td>0.00015</td>\n      <td>2307.91</td>\n      <td>116.33</td>\n      <td>ETH</td>\n      <td>1703393241982</td>\n      <td>ETH</td>\n      <td>0.0</td>\n      <td>123.0</td>\n      <td>SYN.ETH-25DEC23</td>\n      <td>2309.236431</td>\n      <td>-50.0000</td>\n      <td>0.000281</td>\n      <td>181.0</td>\n      <td>0.0002</td>\n      <td>0.0001</td>\n      <td>ETH-25DEC23-2175-P</td>\n      <td>0.0003</td>\n      <td>0.0003</td>\n      <td>0.0006</td>\n    </tr>\n    <tr>\n      <th>714</th>\n      <td>0.00090</td>\n      <td>2307.91</td>\n      <td>0.00</td>\n      <td>ETH</td>\n      <td>1703393241982</td>\n      <td>ETH</td>\n      <td>0.0</td>\n      <td>0.0</td>\n      <td>ETH-28JUN24</td>\n      <td>2442.140000</td>\n      <td>NaN</td>\n      <td>0.000909</td>\n      <td>402.0</td>\n      <td>0.0015</td>\n      <td>0.0003</td>\n      <td>ETH-28JUN24-500-P</td>\n      <td>0.0015</td>\n      <td>NaN</td>\n      <td>NaN</td>\n    </tr>\n    <tr>\n      <th>715</th>\n      <td>0.04650</td>\n      <td>2307.91</td>\n      <td>0.00</td>\n      <td>ETH</td>\n      <td>1703393241982</td>\n      <td>ETH</td>\n      <td>0.0</td>\n      <td>0.0</td>\n      <td>SYN.ETH-26DEC23</td>\n      <td>2310.529823</td>\n      <td>NaN</td>\n      <td>0.051786</td>\n      <td>0.0</td>\n      <td>0.0630</td>\n      <td>0.0300</td>\n      <td>ETH-26DEC23-2425-P</td>\n      <td>NaN</td>\n      <td>NaN</td>\n      <td>NaN</td>\n    </tr>\n    <tr>\n      <th>716</th>\n      <td>NaN</td>\n      <td>2307.91</td>\n      <td>0.00</td>\n      <td>ETH</td>\n      <td>1703393241982</td>\n      <td>ETH</td>\n      <td>0.0</td>\n      <td>0.0</td>\n      <td>SYN.ETH-23FEB24</td>\n      <td>2362.832222</td>\n      <td>NaN</td>\n      <td>0.452430</td>\n      <td>0.0</td>\n      <td>NaN</td>\n      <td>NaN</td>\n      <td>ETH-23FEB24-1300-C</td>\n      <td>NaN</td>\n      <td>NaN</td>\n      <td>NaN</td>\n    </tr>\n    <tr>\n      <th>717</th>\n      <td>NaN</td>\n      <td>2307.91</td>\n      <td>0.00</td>\n      <td>ETH</td>\n      <td>1703393241982</td>\n      <td>ETH</td>\n      <td>0.0</td>\n      <td>0.0</td>\n      <td>SYN.ETH-24DEC23</td>\n      <td>2307.943038</td>\n      <td>NaN</td>\n      <td>0.191537</td>\n      <td>0.0</td>\n      <td>NaN</td>\n      <td>NaN</td>\n      <td>ETH-24DEC23-2750-P</td>\n      <td>NaN</td>\n      <td>NaN</td>\n      <td>NaN</td>\n    </tr>\n  </tbody>\n</table>\n<p>718 rows × 19 columns</p>\n</div>"
     },
     "execution_count": 3,
     "metadata": {},
     "output_type": "execute_result"
    }
   ],
   "source": [
    "df_instrument = pd.read_csv('./data/deribit_instruments.csv', index_col=[0])\n",
    "df_instrument"
   ],
   "metadata": {
    "collapsed": false,
    "ExecuteTime": {
     "end_time": "2023-12-27T02:26:19.515221Z",
     "start_time": "2023-12-27T02:26:19.443409Z"
    }
   },
   "id": "1836e5d921632824"
  },
  {
   "cell_type": "code",
   "execution_count": 4,
   "outputs": [
    {
     "data": {
      "text/plain": "     mid_price  estimated_delivery_price  volume_usd quote_currency  \\\n0      0.02975                   2307.91      274.52            ETH   \n1      0.02775                   2307.91    35078.64            ETH   \n2      0.00105                   2307.91       25.10            ETH   \n3      0.08325                   2307.91     4632.38            ETH   \n4      0.00040                   2307.91      293.38            ETH   \n..         ...                       ...         ...            ...   \n713    0.00015                   2307.91      116.33            ETH   \n714    0.00090                   2307.91        0.00            ETH   \n715    0.04650                   2307.91        0.00            ETH   \n716        NaN                   2307.91        0.00            ETH   \n717        NaN                   2307.91        0.00            ETH   \n\n     creation_timestamp base_currency  interest_rate  volume underlying_index  \\\n0         1703393241971           ETH            0.0     4.0      ETH-29MAR24   \n1         1703393241971           ETH            0.0   518.0  SYN.ETH-12JAN24   \n2         1703393241971           ETH            0.0    16.0  SYN.ETH-26DEC23   \n3         1703393241971           ETH            0.0    24.0  SYN.ETH-23FEB24   \n4         1703393241972           ETH            0.0   160.0  SYN.ETH-25DEC23   \n..                  ...           ...            ...     ...              ...   \n713       1703393241982           ETH            0.0   123.0  SYN.ETH-25DEC23   \n714       1703393241982           ETH            0.0     0.0      ETH-28JUN24   \n715       1703393241982           ETH            0.0     0.0  SYN.ETH-26DEC23   \n716       1703393241982           ETH            0.0     0.0  SYN.ETH-23FEB24   \n717       1703393241982           ETH            0.0     0.0  SYN.ETH-24DEC23   \n\n     underlying_price  ...  ask_price  bid_price     instrument_name    last  \\\n0         2388.450000  ...     0.0310     0.0285  ETH-29MAR24-1800-P  0.0300   \n1         2328.810000  ...     0.0280     0.0275  ETH-12JAN24-2200-P  0.0275   \n2         2310.529823  ...     0.0012     0.0009  ETH-26DEC23-2500-C  0.0007   \n3         2362.832222  ...     0.0840     0.0825  ETH-23FEB24-2300-P  0.0845   \n4         2309.236431  ...     0.0006     0.0002  ETH-25DEC23-2225-P  0.0004   \n..                ...  ...        ...        ...                 ...     ...   \n713       2309.236431  ...     0.0002     0.0001  ETH-25DEC23-2175-P  0.0003   \n714       2442.140000  ...     0.0015     0.0003   ETH-28JUN24-500-P  0.0015   \n715       2310.529823  ...     0.0630     0.0300  ETH-26DEC23-2425-P     NaN   \n716       2362.832222  ...        NaN        NaN  ETH-23FEB24-1300-C     NaN   \n717       2307.943038  ...        NaN        NaN  ETH-24DEC23-2750-P     NaN   \n\n        low    high  currency  expire_date  strike_price option_type  \n0    0.0300  0.0300       ETH      29MAR24          1800           P  \n1    0.0275  0.0300       ETH      12JAN24          2200           P  \n2    0.0004  0.0007       ETH      26DEC23          2500           C  \n3    0.0815  0.0845       ETH      23FEB24          2300           P  \n4    0.0004  0.0025       ETH      25DEC23          2225           P  \n..      ...     ...       ...          ...           ...         ...  \n713  0.0003  0.0006       ETH      25DEC23          2175           P  \n714     NaN     NaN       ETH      28JUN24           500           P  \n715     NaN     NaN       ETH      26DEC23          2425           P  \n716     NaN     NaN       ETH      23FEB24          1300           C  \n717     NaN     NaN       ETH      24DEC23          2750           P  \n\n[718 rows x 23 columns]",
      "text/html": "<div>\n<style scoped>\n    .dataframe tbody tr th:only-of-type {\n        vertical-align: middle;\n    }\n\n    .dataframe tbody tr th {\n        vertical-align: top;\n    }\n\n    .dataframe thead th {\n        text-align: right;\n    }\n</style>\n<table border=\"1\" class=\"dataframe\">\n  <thead>\n    <tr style=\"text-align: right;\">\n      <th></th>\n      <th>mid_price</th>\n      <th>estimated_delivery_price</th>\n      <th>volume_usd</th>\n      <th>quote_currency</th>\n      <th>creation_timestamp</th>\n      <th>base_currency</th>\n      <th>interest_rate</th>\n      <th>volume</th>\n      <th>underlying_index</th>\n      <th>underlying_price</th>\n      <th>...</th>\n      <th>ask_price</th>\n      <th>bid_price</th>\n      <th>instrument_name</th>\n      <th>last</th>\n      <th>low</th>\n      <th>high</th>\n      <th>currency</th>\n      <th>expire_date</th>\n      <th>strike_price</th>\n      <th>option_type</th>\n    </tr>\n  </thead>\n  <tbody>\n    <tr>\n      <th>0</th>\n      <td>0.02975</td>\n      <td>2307.91</td>\n      <td>274.52</td>\n      <td>ETH</td>\n      <td>1703393241971</td>\n      <td>ETH</td>\n      <td>0.0</td>\n      <td>4.0</td>\n      <td>ETH-29MAR24</td>\n      <td>2388.450000</td>\n      <td>...</td>\n      <td>0.0310</td>\n      <td>0.0285</td>\n      <td>ETH-29MAR24-1800-P</td>\n      <td>0.0300</td>\n      <td>0.0300</td>\n      <td>0.0300</td>\n      <td>ETH</td>\n      <td>29MAR24</td>\n      <td>1800</td>\n      <td>P</td>\n    </tr>\n    <tr>\n      <th>1</th>\n      <td>0.02775</td>\n      <td>2307.91</td>\n      <td>35078.64</td>\n      <td>ETH</td>\n      <td>1703393241971</td>\n      <td>ETH</td>\n      <td>0.0</td>\n      <td>518.0</td>\n      <td>SYN.ETH-12JAN24</td>\n      <td>2328.810000</td>\n      <td>...</td>\n      <td>0.0280</td>\n      <td>0.0275</td>\n      <td>ETH-12JAN24-2200-P</td>\n      <td>0.0275</td>\n      <td>0.0275</td>\n      <td>0.0300</td>\n      <td>ETH</td>\n      <td>12JAN24</td>\n      <td>2200</td>\n      <td>P</td>\n    </tr>\n    <tr>\n      <th>2</th>\n      <td>0.00105</td>\n      <td>2307.91</td>\n      <td>25.10</td>\n      <td>ETH</td>\n      <td>1703393241971</td>\n      <td>ETH</td>\n      <td>0.0</td>\n      <td>16.0</td>\n      <td>SYN.ETH-26DEC23</td>\n      <td>2310.529823</td>\n      <td>...</td>\n      <td>0.0012</td>\n      <td>0.0009</td>\n      <td>ETH-26DEC23-2500-C</td>\n      <td>0.0007</td>\n      <td>0.0004</td>\n      <td>0.0007</td>\n      <td>ETH</td>\n      <td>26DEC23</td>\n      <td>2500</td>\n      <td>C</td>\n    </tr>\n    <tr>\n      <th>3</th>\n      <td>0.08325</td>\n      <td>2307.91</td>\n      <td>4632.38</td>\n      <td>ETH</td>\n      <td>1703393241971</td>\n      <td>ETH</td>\n      <td>0.0</td>\n      <td>24.0</td>\n      <td>SYN.ETH-23FEB24</td>\n      <td>2362.832222</td>\n      <td>...</td>\n      <td>0.0840</td>\n      <td>0.0825</td>\n      <td>ETH-23FEB24-2300-P</td>\n      <td>0.0845</td>\n      <td>0.0815</td>\n      <td>0.0845</td>\n      <td>ETH</td>\n      <td>23FEB24</td>\n      <td>2300</td>\n      <td>P</td>\n    </tr>\n    <tr>\n      <th>4</th>\n      <td>0.00040</td>\n      <td>2307.91</td>\n      <td>293.38</td>\n      <td>ETH</td>\n      <td>1703393241972</td>\n      <td>ETH</td>\n      <td>0.0</td>\n      <td>160.0</td>\n      <td>SYN.ETH-25DEC23</td>\n      <td>2309.236431</td>\n      <td>...</td>\n      <td>0.0006</td>\n      <td>0.0002</td>\n      <td>ETH-25DEC23-2225-P</td>\n      <td>0.0004</td>\n      <td>0.0004</td>\n      <td>0.0025</td>\n      <td>ETH</td>\n      <td>25DEC23</td>\n      <td>2225</td>\n      <td>P</td>\n    </tr>\n    <tr>\n      <th>...</th>\n      <td>...</td>\n      <td>...</td>\n      <td>...</td>\n      <td>...</td>\n      <td>...</td>\n      <td>...</td>\n      <td>...</td>\n      <td>...</td>\n      <td>...</td>\n      <td>...</td>\n      <td>...</td>\n      <td>...</td>\n      <td>...</td>\n      <td>...</td>\n      <td>...</td>\n      <td>...</td>\n      <td>...</td>\n      <td>...</td>\n      <td>...</td>\n      <td>...</td>\n      <td>...</td>\n    </tr>\n    <tr>\n      <th>713</th>\n      <td>0.00015</td>\n      <td>2307.91</td>\n      <td>116.33</td>\n      <td>ETH</td>\n      <td>1703393241982</td>\n      <td>ETH</td>\n      <td>0.0</td>\n      <td>123.0</td>\n      <td>SYN.ETH-25DEC23</td>\n      <td>2309.236431</td>\n      <td>...</td>\n      <td>0.0002</td>\n      <td>0.0001</td>\n      <td>ETH-25DEC23-2175-P</td>\n      <td>0.0003</td>\n      <td>0.0003</td>\n      <td>0.0006</td>\n      <td>ETH</td>\n      <td>25DEC23</td>\n      <td>2175</td>\n      <td>P</td>\n    </tr>\n    <tr>\n      <th>714</th>\n      <td>0.00090</td>\n      <td>2307.91</td>\n      <td>0.00</td>\n      <td>ETH</td>\n      <td>1703393241982</td>\n      <td>ETH</td>\n      <td>0.0</td>\n      <td>0.0</td>\n      <td>ETH-28JUN24</td>\n      <td>2442.140000</td>\n      <td>...</td>\n      <td>0.0015</td>\n      <td>0.0003</td>\n      <td>ETH-28JUN24-500-P</td>\n      <td>0.0015</td>\n      <td>NaN</td>\n      <td>NaN</td>\n      <td>ETH</td>\n      <td>28JUN24</td>\n      <td>500</td>\n      <td>P</td>\n    </tr>\n    <tr>\n      <th>715</th>\n      <td>0.04650</td>\n      <td>2307.91</td>\n      <td>0.00</td>\n      <td>ETH</td>\n      <td>1703393241982</td>\n      <td>ETH</td>\n      <td>0.0</td>\n      <td>0.0</td>\n      <td>SYN.ETH-26DEC23</td>\n      <td>2310.529823</td>\n      <td>...</td>\n      <td>0.0630</td>\n      <td>0.0300</td>\n      <td>ETH-26DEC23-2425-P</td>\n      <td>NaN</td>\n      <td>NaN</td>\n      <td>NaN</td>\n      <td>ETH</td>\n      <td>26DEC23</td>\n      <td>2425</td>\n      <td>P</td>\n    </tr>\n    <tr>\n      <th>716</th>\n      <td>NaN</td>\n      <td>2307.91</td>\n      <td>0.00</td>\n      <td>ETH</td>\n      <td>1703393241982</td>\n      <td>ETH</td>\n      <td>0.0</td>\n      <td>0.0</td>\n      <td>SYN.ETH-23FEB24</td>\n      <td>2362.832222</td>\n      <td>...</td>\n      <td>NaN</td>\n      <td>NaN</td>\n      <td>ETH-23FEB24-1300-C</td>\n      <td>NaN</td>\n      <td>NaN</td>\n      <td>NaN</td>\n      <td>ETH</td>\n      <td>23FEB24</td>\n      <td>1300</td>\n      <td>C</td>\n    </tr>\n    <tr>\n      <th>717</th>\n      <td>NaN</td>\n      <td>2307.91</td>\n      <td>0.00</td>\n      <td>ETH</td>\n      <td>1703393241982</td>\n      <td>ETH</td>\n      <td>0.0</td>\n      <td>0.0</td>\n      <td>SYN.ETH-24DEC23</td>\n      <td>2307.943038</td>\n      <td>...</td>\n      <td>NaN</td>\n      <td>NaN</td>\n      <td>ETH-24DEC23-2750-P</td>\n      <td>NaN</td>\n      <td>NaN</td>\n      <td>NaN</td>\n      <td>ETH</td>\n      <td>24DEC23</td>\n      <td>2750</td>\n      <td>P</td>\n    </tr>\n  </tbody>\n</table>\n<p>718 rows × 23 columns</p>\n</div>"
     },
     "execution_count": 4,
     "metadata": {},
     "output_type": "execute_result"
    }
   ],
   "source": [
    "df_instrument[['currency', 'expire_date', 'strike_price', 'option_type']] = df_instrument.instrument_name.str.split('-', expand=True)\n",
    "df_instrument"
   ],
   "metadata": {
    "collapsed": false,
    "ExecuteTime": {
     "end_time": "2023-12-27T02:26:24.217356Z",
     "start_time": "2023-12-27T02:26:24.202688Z"
    }
   },
   "id": "85ea27bdb8d84588"
  },
  {
   "cell_type": "code",
   "execution_count": 123,
   "outputs": [
    {
     "data": {
      "text/plain": "P    359\nC    359\nName: option_type, dtype: int64"
     },
     "execution_count": 123,
     "metadata": {},
     "output_type": "execute_result"
    }
   ],
   "source": [
    "df_instrument['option_type'].value_counts()"
   ],
   "metadata": {
    "collapsed": false,
    "ExecuteTime": {
     "end_time": "2023-12-24T06:59:35.280002Z",
     "start_time": "2023-12-24T06:59:35.273229Z"
    }
   },
   "id": "faa9c51287ae3662"
  },
  {
   "cell_type": "code",
   "execution_count": 34,
   "outputs": [],
   "source": [
    "# df_instrument[['currency', 'expire_date', 'strike_price', 'option_type']]\n",
    "df_instrument['strike_price'] = df_instrument['strike_price'].astype('float')"
   ],
   "metadata": {
    "collapsed": false,
    "ExecuteTime": {
     "end_time": "2023-12-24T05:21:30.534310Z",
     "start_time": "2023-12-24T05:21:30.528664Z"
    }
   },
   "id": "62876c6d180aa8e7"
  },
  {
   "cell_type": "code",
   "execution_count": 70,
   "outputs": [
    {
     "data": {
      "text/plain": "<Figure size 500x150 with 1 Axes>",
      "image/png": "[encoded data removed]"
     },
     "metadata": {},
     "output_type": "display_data"
    }
   ],
   "source": [
    "import matplotlib.pyplot as plt\n",
    "f = plt.figure(figsize=(5,1.5))\n",
    "# Setting the background color of the plot \n",
    "ax = plt.axes()\n",
    "# ax.set_facecolor(\"#F0EEDC\")\n",
    "\n",
    "sns.histplot(data=df_instrument, x='strike_price', hue='option_type', multiple=\"stack\", \n",
    "             palette=['#4B5569', '#DBAD4F'], edgecolors=None, alpha=1)\n",
    "\n",
    "plt.rcParams.update({'font.sans-serif':'DejaVu Sans'})\n",
    "\n",
    "legend = plt.legend(title='type', loc='upper right', labels=['call', 'put'])\n",
    "frame = legend.get_frame()\n",
    "frame.set_facecolor(\"#F0EEDC\")\n",
    "\n",
    "plt.axvline(x=df_instrument.estimated_delivery_price.mean(), color='#B96666', linestyle='--')\n",
    "\n",
    "plt.ylabel('Count')\n",
    "plt.xlabel('Strike Price')\n",
    "plt.savefig('./img/strike_price.png', dpi=500, bbox_inches='tight', transparent=True)"
   ],
   "metadata": {
    "collapsed": false,
    "ExecuteTime": {
     "end_time": "2023-12-24T05:46:58.760267Z",
     "start_time": "2023-12-24T05:46:57.957744Z"
    }
   },
   "id": "bd470dab5f1a8973"
  },
  {
   "cell_type": "code",
   "execution_count": 73,
   "outputs": [],
   "source": [
    "month_dict = {'JAN': '-01-', 'FEB': '-02-', 'MAR': '-03-', 'APR': '-04-', 'MAY': '-05-', 'JUN': '-06-',\n",
    "              'JUL': '-07-', 'AUG': '-08-', 'SEP': '-09-', 'OCT': '-10-', 'NOV': '-11-', 'DEC': '-12-'}"
   ],
   "metadata": {
    "collapsed": false,
    "ExecuteTime": {
     "end_time": "2023-12-24T06:00:04.699139Z",
     "start_time": "2023-12-24T06:00:04.691237Z"
    }
   },
   "id": "12023dbba112b269"
  },
  {
   "cell_type": "code",
   "execution_count": 75,
   "outputs": [],
   "source": [
    "for i in month_dict:\n",
    "    df_instrument['expire_date'] = df_instrument['expire_date'].str.replace(i, month_dict[i])"
   ],
   "metadata": {
    "collapsed": false,
    "ExecuteTime": {
     "end_time": "2023-12-24T06:01:17.282060Z",
     "start_time": "2023-12-24T06:01:17.262221Z"
    }
   },
   "id": "6a74c05ba245151c"
  },
  {
   "cell_type": "code",
   "execution_count": 76,
   "outputs": [],
   "source": [
    "# df_instrument[['currency', 'expire_date', 'strike_price', 'option_type']]\n",
    "df_instrument['expire_date'] = pd.to_datetime(df_instrument['expire_date'])"
   ],
   "metadata": {
    "collapsed": false,
    "ExecuteTime": {
     "end_time": "2023-12-24T06:01:19.022503Z",
     "start_time": "2023-12-24T06:01:19.016097Z"
    }
   },
   "id": "4db7845e721f087e"
  },
  {
   "cell_type": "code",
   "execution_count": 116,
   "outputs": [
    {
     "data": {
      "text/plain": "   expire_date  instrument_name  instrument_name_each\n0   2023-12-24               60                  30.0\n1   2023-12-25               62                  31.0\n2   2023-12-26               60                  30.0\n3   2023-12-29               74                  37.0\n4   2024-01-26               72                  36.0\n5   2024-02-23               74                  37.0\n6   2024-03-29               62                  31.0\n7   2024-05-01               74                  37.0\n8   2024-06-28               64                  32.0\n9   2024-09-27               68                  34.0\n10  2024-12-01               48                  24.0",
      "text/html": "<div>\n<style scoped>\n    .dataframe tbody tr th:only-of-type {\n        vertical-align: middle;\n    }\n\n    .dataframe tbody tr th {\n        vertical-align: top;\n    }\n\n    .dataframe thead th {\n        text-align: right;\n    }\n</style>\n<table border=\"1\" class=\"dataframe\">\n  <thead>\n    <tr style=\"text-align: right;\">\n      <th></th>\n      <th>expire_date</th>\n      <th>instrument_name</th>\n      <th>instrument_name_each</th>\n    </tr>\n  </thead>\n  <tbody>\n    <tr>\n      <th>0</th>\n      <td>2023-12-24</td>\n      <td>60</td>\n      <td>30.0</td>\n    </tr>\n    <tr>\n      <th>1</th>\n      <td>2023-12-25</td>\n      <td>62</td>\n      <td>31.0</td>\n    </tr>\n    <tr>\n      <th>2</th>\n      <td>2023-12-26</td>\n      <td>60</td>\n      <td>30.0</td>\n    </tr>\n    <tr>\n      <th>3</th>\n      <td>2023-12-29</td>\n      <td>74</td>\n      <td>37.0</td>\n    </tr>\n    <tr>\n      <th>4</th>\n      <td>2024-01-26</td>\n      <td>72</td>\n      <td>36.0</td>\n    </tr>\n    <tr>\n      <th>5</th>\n      <td>2024-02-23</td>\n      <td>74</td>\n      <td>37.0</td>\n    </tr>\n    <tr>\n      <th>6</th>\n      <td>2024-03-29</td>\n      <td>62</td>\n      <td>31.0</td>\n    </tr>\n    <tr>\n      <th>7</th>\n      <td>2024-05-01</td>\n      <td>74</td>\n      <td>37.0</td>\n    </tr>\n    <tr>\n      <th>8</th>\n      <td>2024-06-28</td>\n      <td>64</td>\n      <td>32.0</td>\n    </tr>\n    <tr>\n      <th>9</th>\n      <td>2024-09-27</td>\n      <td>68</td>\n      <td>34.0</td>\n    </tr>\n    <tr>\n      <th>10</th>\n      <td>2024-12-01</td>\n      <td>48</td>\n      <td>24.0</td>\n    </tr>\n  </tbody>\n</table>\n</div>"
     },
     "execution_count": 116,
     "metadata": {},
     "output_type": "execute_result"
    }
   ],
   "source": [
    "df_expire = df_instrument.groupby(['expire_date'])['instrument_name'].count().reset_index()\n",
    "df_expire['instrument_name_each'] = df_expire['instrument_name'] / 2\n",
    "df_expire"
   ],
   "metadata": {
    "collapsed": false,
    "ExecuteTime": {
     "end_time": "2023-12-24T06:56:17.638672Z",
     "start_time": "2023-12-24T06:56:17.627235Z"
    }
   },
   "id": "a86a374d9511236b"
  },
  {
   "cell_type": "code",
   "execution_count": 122,
   "outputs": [
    {
     "data": {
      "text/plain": "<Figure size 500x150 with 1 Axes>",
      "image/png": "[encoded data removed]"
     },
     "metadata": {},
     "output_type": "display_data"
    }
   ],
   "source": [
    "import matplotlib.pyplot as plt\n",
    "f = plt.figure(figsize=(5,1.5))\n",
    "# Setting the background color of the plot \n",
    "ax = plt.axes()\n",
    "# ax.set_facecolor(\"#F0EEDC\")\n",
    "\n",
    "sns.lineplot(data=df_expire, x='expire_date', y='instrument_name', color='#242749')\n",
    "\n",
    "ax.fill_between(df_expire.expire_date, 0, df_expire.instrument_name, color='#4B5569')\n",
    "ax.fill_between(df_expire.expire_date, 0, df_expire.instrument_name_each, color='#DBAD4F')\n",
    "\n",
    "plt.ylabel('Count')\n",
    "plt.xlabel('Expiring Date')\n",
    "plt.ylim([0, 90])\n",
    "plt.savefig('./img/expire_date.png', dpi=500, bbox_inches='tight', transparent=True)"
   ],
   "metadata": {
    "collapsed": false,
    "ExecuteTime": {
     "end_time": "2023-12-24T06:58:41.995145Z",
     "start_time": "2023-12-24T06:58:41.337210Z"
    }
   },
   "id": "d5f3921f6714ce9"
  },
  {
   "cell_type": "code",
   "execution_count": 3,
   "id": "initial_id",
   "metadata": {
    "collapsed": true,
    "ExecuteTime": {
     "end_time": "2023-12-24T04:38:50.218079Z",
     "start_time": "2023-12-24T04:38:50.211897Z"
    }
   },
   "outputs": [],
   "source": [
    "# LP_DELTA_HEDGE_PATH = os.path.dirname(\n",
    "#     os.path.dirname(os.path.dirname(os.path.realpath(__file__)))\n",
    "# )\n",
    "# sys.path.append(LP_DELTA_HEDGE_PATH + \"/src\")\n",
    "\n",
    "\n",
    "def create_derivatives_for_instrument(instrument_data, initial_asset_price):\n",
    "    name = instrument_data[\"instrument_name\"]\n",
    "    if (\n",
    "        not (name.endswith(\"C\") or name.endswith(\"P\"))\n",
    "        or (instrument_data[\"bid_price\"] is None)\n",
    "        or (instrument_data[\"ask_price\"] is None)\n",
    "    ):\n",
    "        return None, None\n",
    "    strike = int(name.split(\"-\")[-2])\n",
    "    best_bid = instrument_data[\"bid_price\"] * initial_asset_price\n",
    "    best_ask = instrument_data[\"ask_price\"] * initial_asset_price\n",
    "    info = {\"instrument_data\": instrument_data}\n",
    "    long_payoff_fun = None\n",
    "    short_payoff_fun = None\n",
    "    # call\n",
    "    if name.endswith(\"C\"):\n",
    "        # long\n",
    "        long_payoff_fun = lambda x: max(0, x - strike) - best_ask\n",
    "        # short\n",
    "        short_payoff_fun = lambda x: best_bid - max(0, x - strike)\n",
    "    else:  # put\n",
    "        # long\n",
    "        long_payoff_fun = lambda x: max(0, strike - x) - best_ask\n",
    "        # short\n",
    "        short_payoff_fun = lambda x: best_bid - max(0, strike - x)\n",
    "    long_deriv = Derivative(name + \"_LONG\", long_payoff_fun, best_bid, best_ask, info)\n",
    "    short_deriv = Derivative(\n",
    "        name + \"_SHORT\", short_payoff_fun, best_bid, best_ask, info\n",
    "    )\n",
    "    return long_deriv, short_deriv\n",
    "\n",
    "\n",
    "def create_derivatives_from_instrument_data(data, initial_asset_price, long_only):\n",
    "    assert type(data) == list\n",
    "    derivatives = []\n",
    "    for instrument in data:\n",
    "        long_deriv, short_deriv = create_derivatives_for_instrument(\n",
    "            instrument, initial_asset_price\n",
    "        )\n",
    "        if long_deriv is None or short_deriv is None:\n",
    "            continue\n",
    "        derivatives.append(long_deriv)\n",
    "        if not long_only:\n",
    "            derivatives.append(short_deriv)\n",
    "    return derivatives\n",
    "\n",
    "\n",
    "def retrieve_and_create_derivatives(currency, initial_asset_price, long_only):\n",
    "    instruments = retrieve_instruments(currency)\n",
    "    derivs = create_derivatives_from_instrument_data(\n",
    "        instruments, initial_asset_price, long_only\n",
    "    )\n",
    "    return derivs\n"
   ]
  },
  {
   "cell_type": "code",
   "execution_count": 4,
   "outputs": [
    {
     "name": "stdout",
     "output_type": "stream",
     "text": [
      "Derivatives fetched (2 sec)...\n"
     ]
    }
   ],
   "source": [
    "\n",
    "start_time = time.time()\n",
    "\n",
    "derivs = retrieve_and_create_derivatives(\n",
    "    deriv_params[\"asset\"],\n",
    "    deriv_params[\"initial_asset_price\"],\n",
    "    deriv_params[\"long_only\"],\n",
    ")\n",
    "\n",
    "print(f\"Derivatives fetched ({int(time.time() - start_time)} sec)...\", flush=True)"
   ],
   "metadata": {
    "collapsed": false,
    "ExecuteTime": {
     "end_time": "2023-12-24T04:39:00.643732Z",
     "start_time": "2023-12-24T04:38:58.325118Z"
    }
   },
   "id": "4b46712caae2dfd0"
  },
  {
   "cell_type": "code",
   "execution_count": 5,
   "outputs": [
    {
     "data": {
      "text/plain": "[<__main__.Derivative at 0x7f8ad75c9f40>,\n <__main__.Derivative at 0x7f8ad75a8730>,\n <__main__.Derivative at 0x7f8ad78c9e50>,\n <__main__.Derivative at 0x7f8ad78c9eb0>,\n <__main__.Derivative at 0x7f8ad7666a90>,\n <__main__.Derivative at 0x7f8ad7666970>,\n <__main__.Derivative at 0x7f8ad76669d0>,\n <__main__.Derivative at 0x7f8ad76667c0>,\n <__main__.Derivative at 0x7f8ad7666af0>,\n <__main__.Derivative at 0x7f8ad7666ac0>,\n <__main__.Derivative at 0x7f8ad7666820>,\n <__main__.Derivative at 0x7f8ad76664f0>,\n <__main__.Derivative at 0x7f8ad7666430>,\n <__main__.Derivative at 0x7f8ad7666940>,\n <__main__.Derivative at 0x7f8ad7666250>,\n <__main__.Derivative at 0x7f8ad8627dc0>,\n <__main__.Derivative at 0x7f8ad8627c10>,\n <__main__.Derivative at 0x7f8ad8627a60>,\n <__main__.Derivative at 0x7f8ad8627ca0>,\n <__main__.Derivative at 0x7f8ad8627190>,\n <__main__.Derivative at 0x7f8ad8627be0>,\n <__main__.Derivative at 0x7f8ad8627730>,\n <__main__.Derivative at 0x7f8ad8627d60>,\n <__main__.Derivative at 0x7f8ad86278e0>,\n <__main__.Derivative at 0x7f8ad8627e50>,\n <__main__.Derivative at 0x7f8ad8627850>,\n <__main__.Derivative at 0x7f8ad8627d30>,\n <__main__.Derivative at 0x7f8ad86272e0>,\n <__main__.Derivative at 0x7f8ad8627910>,\n <__main__.Derivative at 0x7f8ad8627ac0>,\n <__main__.Derivative at 0x7f8ad8627d00>,\n <__main__.Derivative at 0x7f8ad78ef130>,\n <__main__.Derivative at 0x7f8ad8627a90>,\n <__main__.Derivative at 0x7f8ad78ef310>,\n <__main__.Derivative at 0x7f8ad78ef340>,\n <__main__.Derivative at 0x7f8ad78ef4f0>,\n <__main__.Derivative at 0x7f8ad78ef1c0>,\n <__main__.Derivative at 0x7f8ad78ef730>,\n <__main__.Derivative at 0x7f8ad78ef400>,\n <__main__.Derivative at 0x7f8ad78ef7f0>,\n <__main__.Derivative at 0x7f8ad78ef2e0>,\n <__main__.Derivative at 0x7f8ad78ef6a0>,\n <__main__.Derivative at 0x7f8ad78ef910>,\n <__main__.Derivative at 0x7f8ad78efa90>,\n <__main__.Derivative at 0x7f8ad78efbe0>,\n <__main__.Derivative at 0x7f8ad78efc40>,\n <__main__.Derivative at 0x7f8ad78efca0>,\n <__main__.Derivative at 0x7f8ad78efdc0>,\n <__main__.Derivative at 0x7f8ad78efd60>,\n <__main__.Derivative at 0x7f8ad78efe80>,\n <__main__.Derivative at 0x7f8ad78ef9a0>,\n <__main__.Derivative at 0x7f8ad78effd0>,\n <__main__.Derivative at 0x7f8ad8873070>,\n <__main__.Derivative at 0x7f8ad8873130>,\n <__main__.Derivative at 0x7f8ad88731f0>,\n <__main__.Derivative at 0x7f8ad88732b0>,\n <__main__.Derivative at 0x7f8ad8873370>,\n <__main__.Derivative at 0x7f8ad8873430>,\n <__main__.Derivative at 0x7f8ad88734f0>,\n <__main__.Derivative at 0x7f8ad88733a0>,\n <__main__.Derivative at 0x7f8ad88736a0>,\n <__main__.Derivative at 0x7f8ad8873730>,\n <__main__.Derivative at 0x7f8ad88737f0>,\n <__main__.Derivative at 0x7f8ad88738b0>,\n <__main__.Derivative at 0x7f8ad8873970>,\n <__main__.Derivative at 0x7f8ad8873a30>,\n <__main__.Derivative at 0x7f8ad88738e0>,\n <__main__.Derivative at 0x7f8ad8873bb0>,\n <__main__.Derivative at 0x7f8ad8873c70>,\n <__main__.Derivative at 0x7f8ad8873d60>,\n <__main__.Derivative at 0x7f8ad8873df0>,\n <__main__.Derivative at 0x7f8ad8873d00>,\n <__main__.Derivative at 0x7f8ad8873f70>,\n <__main__.Derivative at 0x7f8ad88760a0>,\n <__main__.Derivative at 0x7f8ad8876130>,\n <__main__.Derivative at 0x7f8ad88761f0>,\n <__main__.Derivative at 0x7f8ad88762b0>,\n <__main__.Derivative at 0x7f8ad8876370>,\n <__main__.Derivative at 0x7f8ad8876430>,\n <__main__.Derivative at 0x7f8ad88764f0>,\n <__main__.Derivative at 0x7f8ad88763a0>,\n <__main__.Derivative at 0x7f8ad8876670>,\n <__main__.Derivative at 0x7f8ad8876730>,\n <__main__.Derivative at 0x7f8ad8876820>,\n <__main__.Derivative at 0x7f8ad88766d0>,\n <__main__.Derivative at 0x7f8ad8876970>,\n <__main__.Derivative at 0x7f8ad8876a60>,\n <__main__.Derivative at 0x7f8ad8876af0>,\n <__main__.Derivative at 0x7f8ad8876bb0>,\n <__main__.Derivative at 0x7f8ad8876c70>,\n <__main__.Derivative at 0x7f8ad8876d30>,\n <__main__.Derivative at 0x7f8ad8876df0>,\n <__main__.Derivative at 0x7f8ad8876eb0>,\n <__main__.Derivative at 0x7f8ad8876f70>,\n <__main__.Derivative at 0x7f8ad8876fa0>,\n <__main__.Derivative at 0x7f8ad8879130>,\n <__main__.Derivative at 0x7f8ad8879220>,\n <__main__.Derivative at 0x7f8ad88791c0>,\n <__main__.Derivative at 0x7f8ad8879370>,\n <__main__.Derivative at 0x7f8ad8879460>,\n <__main__.Derivative at 0x7f8ad88794f0>,\n <__main__.Derivative at 0x7f8ad88795b0>,\n <__main__.Derivative at 0x7f8ad88793d0>,\n <__main__.Derivative at 0x7f8ad8879760>,\n <__main__.Derivative at 0x7f8ad88797f0>,\n <__main__.Derivative at 0x7f8ad88798b0>,\n <__main__.Derivative at 0x7f8ad8879970>,\n <__main__.Derivative at 0x7f8ad8879820>,\n <__main__.Derivative at 0x7f8ad8879b20>,\n <__main__.Derivative at 0x7f8ad8879bb0>,\n <__main__.Derivative at 0x7f8ad8879c70>,\n <__main__.Derivative at 0x7f8ad8879d30>,\n <__main__.Derivative at 0x7f8ad8879df0>,\n <__main__.Derivative at 0x7f8ad8879eb0>,\n <__main__.Derivative at 0x7f8ad8879f70>,\n <__main__.Derivative at 0x7f8ad887c070>,\n <__main__.Derivative at 0x7f8ad887c0d0>,\n <__main__.Derivative at 0x7f8ad887c220>,\n <__main__.Derivative at 0x7f8ad887c1c0>,\n <__main__.Derivative at 0x7f8ad887c3a0>,\n <__main__.Derivative at 0x7f8ad887c430>,\n <__main__.Derivative at 0x7f8ad887c4f0>,\n <__main__.Derivative at 0x7f8ad887c5b0>,\n <__main__.Derivative at 0x7f8ad887c670>,\n <__main__.Derivative at 0x7f8ad887c730>,\n <__main__.Derivative at 0x7f8ad887c7f0>,\n <__main__.Derivative at 0x7f8ad887c8b0>,\n <__main__.Derivative at 0x7f8ad887c970>,\n <__main__.Derivative at 0x7f8ad887c820>,\n <__main__.Derivative at 0x7f8ad887cb20>,\n <__main__.Derivative at 0x7f8ad887cbb0>,\n <__main__.Derivative at 0x7f8ad887cc70>,\n <__main__.Derivative at 0x7f8ad887ca90>,\n <__main__.Derivative at 0x7f8ad887ce20>,\n <__main__.Derivative at 0x7f8ad887cd60>,\n <__main__.Derivative at 0x7f8ad887cfa0>,\n <__main__.Derivative at 0x7f8ad887cf10>,\n <__main__.Derivative at 0x7f8ad887f130>,\n <__main__.Derivative at 0x7f8ad887f1f0>,\n <__main__.Derivative at 0x7f8ad887f2b0>,\n <__main__.Derivative at 0x7f8ad887f3a0>,\n <__main__.Derivative at 0x7f8ad887f430>,\n <__main__.Derivative at 0x7f8ad887f4f0>,\n <__main__.Derivative at 0x7f8ad887f310>,\n <__main__.Derivative at 0x7f8ad887f670>,\n <__main__.Derivative at 0x7f8ad887f760>,\n <__main__.Derivative at 0x7f8ad887f7f0>,\n <__main__.Derivative at 0x7f8ad887f8b0>,\n <__main__.Derivative at 0x7f8ad887f970>,\n <__main__.Derivative at 0x7f8ad887fa30>,\n <__main__.Derivative at 0x7f8ad887faf0>,\n <__main__.Derivative at 0x7f8ad887f9a0>,\n <__main__.Derivative at 0x7f8ad887fca0>,\n <__main__.Derivative at 0x7f8ad887fd30>,\n <__main__.Derivative at 0x7f8ad887fdf0>,\n <__main__.Derivative at 0x7f8ad887feb0>,\n <__main__.Derivative at 0x7f8ad887ff70>,\n <__main__.Derivative at 0x7f8ad887ffa0>,\n <__main__.Derivative at 0x7f8ad8885130>,\n <__main__.Derivative at 0x7f8ad8885220>,\n <__main__.Derivative at 0x7f8ad88852b0>,\n <__main__.Derivative at 0x7f8ad88851c0>,\n <__main__.Derivative at 0x7f8ad8885430>,\n <__main__.Derivative at 0x7f8ad88854f0>,\n <__main__.Derivative at 0x7f8ad88855b0>,\n <__main__.Derivative at 0x7f8ad88856a0>,\n <__main__.Derivative at 0x7f8ad8885730>,\n <__main__.Derivative at 0x7f8ad88857f0>,\n <__main__.Derivative at 0x7f8ad88858b0>,\n <__main__.Derivative at 0x7f8ad8885970>,\n <__main__.Derivative at 0x7f8ad8885a30>,\n <__main__.Derivative at 0x7f8ad88858e0>,\n <__main__.Derivative at 0x7f8ad8885bb0>,\n <__main__.Derivative at 0x7f8ad8885ca0>,\n <__main__.Derivative at 0x7f8ad8885b50>,\n <__main__.Derivative at 0x7f8ad8885df0>,\n <__main__.Derivative at 0x7f8ad8885ee0>,\n <__main__.Derivative at 0x7f8ad8885f70>,\n <__main__.Derivative at 0x7f8ad8887070>,\n <__main__.Derivative at 0x7f8ad88870d0>,\n <__main__.Derivative at 0x7f8ad88871f0>,\n <__main__.Derivative at 0x7f8ad88872e0>,\n <__main__.Derivative at 0x7f8ad8887370>,\n <__main__.Derivative at 0x7f8ad8887430>,\n <__main__.Derivative at 0x7f8ad88874f0>,\n <__main__.Derivative at 0x7f8ad88875b0>,\n <__main__.Derivative at 0x7f8ad8887670>,\n <__main__.Derivative at 0x7f8ad8887730>,\n <__main__.Derivative at 0x7f8ad88877f0>,\n <__main__.Derivative at 0x7f8ad88876a0>,\n <__main__.Derivative at 0x7f8ad88879a0>,\n <__main__.Derivative at 0x7f8ad88878e0>,\n <__main__.Derivative at 0x7f8ad8887b20>,\n <__main__.Derivative at 0x7f8ad8887bb0>,\n <__main__.Derivative at 0x7f8ad8887ac0>,\n <__main__.Derivative at 0x7f8ad8887d60>,\n <__main__.Derivative at 0x7f8ad8887df0>,\n <__main__.Derivative at 0x7f8ad8887eb0>,\n <__main__.Derivative at 0x7f8ad8887f70>,\n <__main__.Derivative at 0x7f8ad888d070>,\n <__main__.Derivative at 0x7f8ad888d0d0>,\n <__main__.Derivative at 0x7f8ad888d220>,\n <__main__.Derivative at 0x7f8ad888d1c0>,\n <__main__.Derivative at 0x7f8ad888d3a0>,\n <__main__.Derivative at 0x7f8ad888d430>,\n <__main__.Derivative at 0x7f8ad888d340>,\n <__main__.Derivative at 0x7f8ad888d5e0>,\n <__main__.Derivative at 0x7f8ad888d670>,\n <__main__.Derivative at 0x7f8ad888d730>,\n <__main__.Derivative at 0x7f8ad888d550>,\n <__main__.Derivative at 0x7f8ad888d8b0>,\n <__main__.Derivative at 0x7f8ad888d9a0>,\n <__main__.Derivative at 0x7f8ad888d850>,\n <__main__.Derivative at 0x7f8ad888daf0>,\n <__main__.Derivative at 0x7f8ad888dbe0>,\n <__main__.Derivative at 0x7f8ad888da90>,\n <__main__.Derivative at 0x7f8ad888dd60>,\n <__main__.Derivative at 0x7f8ad888dca0>,\n <__main__.Derivative at 0x7f8ad888deb0>,\n <__main__.Derivative at 0x7f8ad888df70>,\n <__main__.Derivative at 0x7f8ad87a40a0>,\n <__main__.Derivative at 0x7f8ad87a40d0>,\n <__main__.Derivative at 0x7f8ad87a41f0>,\n <__main__.Derivative at 0x7f8ad87a42e0>,\n <__main__.Derivative at 0x7f8ad87a4370>,\n <__main__.Derivative at 0x7f8ad87a4430>,\n <__main__.Derivative at 0x7f8ad87a44f0>,\n <__main__.Derivative at 0x7f8ad87a45b0>,\n <__main__.Derivative at 0x7f8ad87a4670>,\n <__main__.Derivative at 0x7f8ad87a4730>,\n <__main__.Derivative at 0x7f8ad87a45e0>,\n <__main__.Derivative at 0x7f8ad87a48e0>,\n <__main__.Derivative at 0x7f8ad87a4970>,\n <__main__.Derivative at 0x7f8ad87a4a30>,\n <__main__.Derivative at 0x7f8ad87a4af0>,\n <__main__.Derivative at 0x7f8ad87a4bb0>,\n <__main__.Derivative at 0x7f8ad87a4c70>,\n <__main__.Derivative at 0x7f8ad87a4b20>,\n <__main__.Derivative at 0x7f8ad87a4e20>,\n <__main__.Derivative at 0x7f8ad87a4d60>,\n <__main__.Derivative at 0x7f8ad87a4f70>,\n <__main__.Derivative at 0x7f8ad87a80a0>,\n <__main__.Derivative at 0x7f8ad87a80d0>,\n <__main__.Derivative at 0x7f8ad87a8220>,\n <__main__.Derivative at 0x7f8ad87a82b0>,\n <__main__.Derivative at 0x7f8ad87a8370>,\n <__main__.Derivative at 0x7f8ad87a8430>,\n <__main__.Derivative at 0x7f8ad87a84f0>,\n <__main__.Derivative at 0x7f8ad87a85b0>,\n <__main__.Derivative at 0x7f8ad87a8670>,\n <__main__.Derivative at 0x7f8ad87a8730>,\n <__main__.Derivative at 0x7f8ad87a85e0>,\n <__main__.Derivative at 0x7f8ad87a88e0>,\n <__main__.Derivative at 0x7f8ad87a8970>,\n <__main__.Derivative at 0x7f8ad87a8a30>,\n <__main__.Derivative at 0x7f8ad87a8af0>,\n <__main__.Derivative at 0x7f8ad87a8bb0>,\n <__main__.Derivative at 0x7f8ad87a8c70>,\n <__main__.Derivative at 0x7f8ad87a8d30>,\n <__main__.Derivative at 0x7f8ad87a8df0>,\n <__main__.Derivative at 0x7f8ad87a8eb0>,\n <__main__.Derivative at 0x7f8ad87a8d60>,\n <__main__.Derivative at 0x7f8ad87ac0a0>,\n <__main__.Derivative at 0x7f8ad87ac130>,\n <__main__.Derivative at 0x7f8ad87ac1f0>,\n <__main__.Derivative at 0x7f8ad87ac160>,\n <__main__.Derivative at 0x7f8ad87ac3a0>,\n <__main__.Derivative at 0x7f8ad87ac430>,\n <__main__.Derivative at 0x7f8ad87ac4f0>,\n <__main__.Derivative at 0x7f8ad87ac5b0>,\n <__main__.Derivative at 0x7f8ad87ac460>,\n <__main__.Derivative at 0x7f8ad87ac760>,\n <__main__.Derivative at 0x7f8ad87ac6a0>,\n <__main__.Derivative at 0x7f8ad87ac8b0>,\n <__main__.Derivative at 0x7f8ad87ac970>,\n <__main__.Derivative at 0x7f8ad87aca30>,\n <__main__.Derivative at 0x7f8ad87acb20>,\n <__main__.Derivative at 0x7f8ad87acbb0>,\n <__main__.Derivative at 0x7f8ad87acc70>,\n <__main__.Derivative at 0x7f8ad87acd30>,\n <__main__.Derivative at 0x7f8ad87acbe0>,\n <__main__.Derivative at 0x7f8ad87acee0>,\n <__main__.Derivative at 0x7f8ad87ace20>,\n <__main__.Derivative at 0x7f8ad87acf70>,\n <__main__.Derivative at 0x7f8ad87b1130>,\n <__main__.Derivative at 0x7f8ad87b11f0>,\n <__main__.Derivative at 0x7f8ad87b12b0>,\n <__main__.Derivative at 0x7f8ad87b1370>,\n <__main__.Derivative at 0x7f8ad87b1460>,\n <__main__.Derivative at 0x7f8ad87b14f0>,\n <__main__.Derivative at 0x7f8ad87b1400>,\n <__main__.Derivative at 0x7f8ad87b16a0>,\n <__main__.Derivative at 0x7f8ad87b1730>,\n <__main__.Derivative at 0x7f8ad87b17f0>,\n <__main__.Derivative at 0x7f8ad87b18b0>,\n <__main__.Derivative at 0x7f8ad87b1760>,\n <__main__.Derivative at 0x7f8ad87b1a60>,\n <__main__.Derivative at 0x7f8ad87b19a0>,\n <__main__.Derivative at 0x7f8ad87b1bb0>,\n <__main__.Derivative at 0x7f8ad87b1ca0>,\n <__main__.Derivative at 0x7f8ad87b1d30>,\n <__main__.Derivative at 0x7f8ad87b1df0>,\n <__main__.Derivative at 0x7f8ad87b1c10>,\n <__main__.Derivative at 0x7f8ad87b1fa0>,\n <__main__.Derivative at 0x7f8ad87b5070>,\n <__main__.Derivative at 0x7f8ad87b50d0>,\n <__main__.Derivative at 0x7f8ad87b51f0>,\n <__main__.Derivative at 0x7f8ad87b52e0>,\n <__main__.Derivative at 0x7f8ad87b5370>,\n <__main__.Derivative at 0x7f8ad87b5430>,\n <__main__.Derivative at 0x7f8ad87b5250>,\n <__main__.Derivative at 0x7f8ad87b55e0>,\n <__main__.Derivative at 0x7f8ad87b5670>,\n <__main__.Derivative at 0x7f8ad87b5730>,\n <__main__.Derivative at 0x7f8ad87b57f0>,\n <__main__.Derivative at 0x7f8ad87b58b0>,\n <__main__.Derivative at 0x7f8ad87b5760>,\n <__main__.Derivative at 0x7f8ad87b5a60>,\n <__main__.Derivative at 0x7f8ad87b5af0>,\n <__main__.Derivative at 0x7f8ad87b5a00>,\n <__main__.Derivative at 0x7f8ad87b5ca0>,\n <__main__.Derivative at 0x7f8ad87b5be0>,\n <__main__.Derivative at 0x7f8ad87b5df0>,\n <__main__.Derivative at 0x7f8ad87b5ee0>,\n <__main__.Derivative at 0x7f8ad87b5f70>,\n <__main__.Derivative at 0x7f8ad87ba070>,\n <__main__.Derivative at 0x7f8ad87ba0d0>,\n <__main__.Derivative at 0x7f8ad87ba220>,\n <__main__.Derivative at 0x7f8ad87ba2b0>,\n <__main__.Derivative at 0x7f8ad87ba370>,\n <__main__.Derivative at 0x7f8ad87ba430>,\n <__main__.Derivative at 0x7f8ad87ba4f0>,\n <__main__.Derivative at 0x7f8ad87ba5b0>,\n <__main__.Derivative at 0x7f8ad87ba670>,\n <__main__.Derivative at 0x7f8ad87ba730>,\n <__main__.Derivative at 0x7f8ad87ba5e0>,\n <__main__.Derivative at 0x7f8ad87ba8b0>,\n <__main__.Derivative at 0x7f8ad87ba970>,\n <__main__.Derivative at 0x7f8ad87baa60>,\n <__main__.Derivative at 0x7f8ad87baaf0>,\n <__main__.Derivative at 0x7f8ad87babb0>,\n <__main__.Derivative at 0x7f8ad87bac70>,\n <__main__.Derivative at 0x7f8ad87bad30>,\n <__main__.Derivative at 0x7f8ad87badf0>,\n <__main__.Derivative at 0x7f8ad87baca0>,\n <__main__.Derivative at 0x7f8ad87bafa0>,\n <__main__.Derivative at 0x7f8ad87be070>,\n <__main__.Derivative at 0x7f8ad87be0d0>,\n <__main__.Derivative at 0x7f8ad87be220>,\n <__main__.Derivative at 0x7f8ad87be2b0>,\n <__main__.Derivative at 0x7f8ad87be370>,\n <__main__.Derivative at 0x7f8ad87be430>,\n <__main__.Derivative at 0x7f8ad87be4f0>,\n <__main__.Derivative at 0x7f8ad87be3a0>,\n <__main__.Derivative at 0x7f8ad87be6a0>,\n <__main__.Derivative at 0x7f8ad87be730>,\n <__main__.Derivative at 0x7f8ad87be640>,\n <__main__.Derivative at 0x7f8ad87be8e0>,\n <__main__.Derivative at 0x7f8ad87be970>,\n <__main__.Derivative at 0x7f8ad87be880>,\n <__main__.Derivative at 0x7f8ad87beaf0>,\n <__main__.Derivative at 0x7f8ad87bebb0>,\n <__main__.Derivative at 0x7f8ad87beca0>,\n <__main__.Derivative at 0x7f8ad87bed30>,\n <__main__.Derivative at 0x7f8ad87bedf0>,\n <__main__.Derivative at 0x7f8ad87bec10>,\n <__main__.Derivative at 0x7f8ad87befa0>,\n <__main__.Derivative at 0x7f8ad87bef10>,\n <__main__.Derivative at 0x7f8ad87c1130>,\n <__main__.Derivative at 0x7f8ad87c1220>,\n <__main__.Derivative at 0x7f8ad87c11c0>,\n <__main__.Derivative at 0x7f8ad87c13a0>,\n <__main__.Derivative at 0x7f8ad87c1430>,\n <__main__.Derivative at 0x7f8ad87c1340>,\n <__main__.Derivative at 0x7f8ad87c15b0>,\n <__main__.Derivative at 0x7f8ad87c16a0>,\n <__main__.Derivative at 0x7f8ad87c1550>,\n <__main__.Derivative at 0x7f8ad87c1820>,\n <__main__.Derivative at 0x7f8ad87c18b0>,\n <__main__.Derivative at 0x7f8ad87c17c0>,\n <__main__.Derivative at 0x7f8ad87c1a30>,\n <__main__.Derivative at 0x7f8ad87c1b20>,\n <__main__.Derivative at 0x7f8ad87c1bb0>,\n <__main__.Derivative at 0x7f8ad87c1c70>,\n <__main__.Derivative at 0x7f8ad87c1d30>,\n <__main__.Derivative at 0x7f8ad87c1df0>,\n <__main__.Derivative at 0x7f8ad87c1eb0>,\n <__main__.Derivative at 0x7f8ad87c1d60>,\n <__main__.Derivative at 0x7f8ad87c1f70>,\n <__main__.Derivative at 0x7f8ad87c5160>,\n <__main__.Derivative at 0x7f8ad87c51f0>,\n <__main__.Derivative at 0x7f8ad87c52b0>,\n <__main__.Derivative at 0x7f8ad87c5070>,\n <__main__.Derivative at 0x7f8ad87c5460>,\n <__main__.Derivative at 0x7f8ad87c54f0>,\n <__main__.Derivative at 0x7f8ad87c5400>,\n <__main__.Derivative at 0x7f8ad87c56a0>,\n <__main__.Derivative at 0x7f8ad87c5730>,\n <__main__.Derivative at 0x7f8ad87c57f0>,\n <__main__.Derivative at 0x7f8ad87c58b0>,\n <__main__.Derivative at 0x7f8ad87c5760>,\n <__main__.Derivative at 0x7f8ad87c5a60>,\n <__main__.Derivative at 0x7f8ad87c5af0>,\n <__main__.Derivative at 0x7f8ad87c5bb0>,\n <__main__.Derivative at 0x7f8ad87c59d0>,\n <__main__.Derivative at 0x7f8ad87c5d30>,\n <__main__.Derivative at 0x7f8ad87c5e20>,\n <__main__.Derivative at 0x7f8ad87c5cd0>,\n <__main__.Derivative at 0x7f8ad87c5fa0>,\n <__main__.Derivative at 0x7f8ad87c5f10>,\n <__main__.Derivative at 0x7f8ad87cb160>,\n <__main__.Derivative at 0x7f8ad87cb220>,\n <__main__.Derivative at 0x7f8ad87cb2e0>,\n <__main__.Derivative at 0x7f8ad87cb280>,\n <__main__.Derivative at 0x7f8ad87cb460>,\n <__main__.Derivative at 0x7f8ad87cb4f0>,\n <__main__.Derivative at 0x7f8ad87cb5b0>,\n <__main__.Derivative at 0x7f8ad87cb3d0>,\n <__main__.Derivative at 0x7f8ad87cb760>,\n <__main__.Derivative at 0x7f8ad87cb6a0>,\n <__main__.Derivative at 0x7f8ad87cb8b0>,\n <__main__.Derivative at 0x7f8ad87cb970>,\n <__main__.Derivative at 0x7f8ad87cba30>,\n <__main__.Derivative at 0x7f8ad87cbaf0>,\n <__main__.Derivative at 0x7f8ad87cbbb0>,\n <__main__.Derivative at 0x7f8ad87cbca0>,\n <__main__.Derivative at 0x7f8ad87cbb50>,\n <__main__.Derivative at 0x7f8ad87cbe20>,\n <__main__.Derivative at 0x7f8ad87cbd60>,\n <__main__.Derivative at 0x7f8ad87cbfa0>,\n <__main__.Derivative at 0x7f8ad87cd070>,\n <__main__.Derivative at 0x7f8ad87cd130>,\n <__main__.Derivative at 0x7f8ad87cd220>,\n <__main__.Derivative at 0x7f8ad87cd2e0>,\n <__main__.Derivative at 0x7f8ad87cd280>,\n <__main__.Derivative at 0x7f8ad87cd460>,\n <__main__.Derivative at 0x7f8ad87cd4f0>,\n <__main__.Derivative at 0x7f8ad87cd400>,\n <__main__.Derivative at 0x7f8ad87cd670>,\n <__main__.Derivative at 0x7f8ad87cd760>,\n <__main__.Derivative at 0x7f8ad87cd610>,\n <__main__.Derivative at 0x7f8ad87cd8e0>,\n <__main__.Derivative at 0x7f8ad87cd970>,\n <__main__.Derivative at 0x7f8ad87cda30>,\n <__main__.Derivative at 0x7f8ad87cd850>,\n <__main__.Derivative at 0x7f8ad87cdbe0>,\n <__main__.Derivative at 0x7f8ad87cdc70>,\n <__main__.Derivative at 0x7f8ad87cdb80>,\n <__main__.Derivative at 0x7f8ad87cde20>,\n <__main__.Derivative at 0x7f8ad87cdd60>,\n <__main__.Derivative at 0x7f8ad87cdfa0>,\n <__main__.Derivative at 0x7f8ad87d3070>,\n <__main__.Derivative at 0x7f8ad87d30d0>,\n <__main__.Derivative at 0x7f8ad87d3220>,\n <__main__.Derivative at 0x7f8ad87d32b0>,\n <__main__.Derivative at 0x7f8ad87d3370>,\n <__main__.Derivative at 0x7f8ad87d3430>,\n <__main__.Derivative at 0x7f8ad87d34f0>,\n <__main__.Derivative at 0x7f8ad87d35b0>,\n <__main__.Derivative at 0x7f8ad87d3460>,\n <__main__.Derivative at 0x7f8ad87d3760>,\n <__main__.Derivative at 0x7f8ad87d37f0>,\n <__main__.Derivative at 0x7f8ad87d38b0>,\n <__main__.Derivative at 0x7f8ad87d36d0>,\n <__main__.Derivative at 0x7f8ad87d3a60>,\n <__main__.Derivative at 0x7f8ad87d3af0>,\n <__main__.Derivative at 0x7f8ad87d3bb0>,\n <__main__.Derivative at 0x7f8ad87d3c70>,\n <__main__.Derivative at 0x7f8ad87d3d30>,\n <__main__.Derivative at 0x7f8ad87d3df0>,\n <__main__.Derivative at 0x7f8ad87d3eb0>,\n <__main__.Derivative at 0x7f8ad87d3f70>,\n <__main__.Derivative at 0x7f8ad87d3fa0>,\n <__main__.Derivative at 0x7f8ad87d7130>,\n <__main__.Derivative at 0x7f8ad87d71f0>,\n <__main__.Derivative at 0x7f8ad87d72b0>,\n <__main__.Derivative at 0x7f8ad87d73a0>,\n <__main__.Derivative at 0x7f8ad87d7430>,\n <__main__.Derivative at 0x7f8ad87d7340>,\n <__main__.Derivative at 0x7f8ad87d75e0>,\n <__main__.Derivative at 0x7f8ad87d7670>,\n <__main__.Derivative at 0x7f8ad87d7730>,\n <__main__.Derivative at 0x7f8ad87d77f0>,\n <__main__.Derivative at 0x7f8ad87d76a0>,\n <__main__.Derivative at 0x7f8ad87d79a0>,\n <__main__.Derivative at 0x7f8ad87d7a30>,\n <__main__.Derivative at 0x7f8ad87d7af0>,\n <__main__.Derivative at 0x7f8ad87d7910>,\n <__main__.Derivative at 0x7f8ad87d7ca0>,\n <__main__.Derivative at 0x7f8ad87d7d30>,\n <__main__.Derivative at 0x7f8ad87d7c40>,\n <__main__.Derivative at 0x7f8ad87d7ee0>,\n <__main__.Derivative at 0x7f8ad87d7f70>,\n <__main__.Derivative at 0x7f8ad87d7fa0>,\n <__main__.Derivative at 0x7f8ad87db160>,\n <__main__.Derivative at 0x7f8ad87db1f0>,\n <__main__.Derivative at 0x7f8ad87db2b0>,\n <__main__.Derivative at 0x7f8ad87db370>,\n <__main__.Derivative at 0x7f8ad87db430>,\n <__main__.Derivative at 0x7f8ad87db4f0>,\n <__main__.Derivative at 0x7f8ad87db5b0>,\n <__main__.Derivative at 0x7f8ad87db670>,\n <__main__.Derivative at 0x7f8ad87db520>,\n <__main__.Derivative at 0x7f8ad87db820>,\n <__main__.Derivative at 0x7f8ad87db8b0>,\n <__main__.Derivative at 0x7f8ad87db7c0>,\n <__main__.Derivative at 0x7f8ad87dba60>,\n <__main__.Derivative at 0x7f8ad87db9a0>,\n <__main__.Derivative at 0x7f8ad87dbbe0>,\n <__main__.Derivative at 0x7f8ad87dbc70>,\n <__main__.Derivative at 0x7f8ad87dbb80>,\n <__main__.Derivative at 0x7f8ad87dbe20>,\n <__main__.Derivative at 0x7f8ad87dbd60>,\n <__main__.Derivative at 0x7f8ad87dbf70>,\n <__main__.Derivative at 0x7f8ad87dbfa0>,\n <__main__.Derivative at 0x7f8ad87df160>,\n <__main__.Derivative at 0x7f8ad87df100>,\n <__main__.Derivative at 0x7f8ad87df2b0>,\n <__main__.Derivative at 0x7f8ad87df3a0>,\n <__main__.Derivative at 0x7f8ad87df430>,\n <__main__.Derivative at 0x7f8ad87df340>,\n <__main__.Derivative at 0x7f8ad87df5e0>,\n <__main__.Derivative at 0x7f8ad87df520>,\n <__main__.Derivative at 0x7f8ad87df760>,\n <__main__.Derivative at 0x7f8ad87df7f0>,\n <__main__.Derivative at 0x7f8ad87df8b0>,\n <__main__.Derivative at 0x7f8ad87df6d0>,\n <__main__.Derivative at 0x7f8ad87dfa60>,\n <__main__.Derivative at 0x7f8ad87dfaf0>,\n <__main__.Derivative at 0x7f8ad87dfbb0>,\n <__main__.Derivative at 0x7f8ad87dfc70>,\n <__main__.Derivative at 0x7f8ad87dfb20>,\n <__main__.Derivative at 0x7f8ad87dfe20>,\n <__main__.Derivative at 0x7f8ad87dfeb0>,\n <__main__.Derivative at 0x7f8ad87dff70>,\n <__main__.Derivative at 0x7f8ad87dffa0>,\n <__main__.Derivative at 0x7f8ad8891160>,\n <__main__.Derivative at 0x7f8ad8891220>,\n <__main__.Derivative at 0x7f8ad88912e0>,\n <__main__.Derivative at 0x7f8ad8891280>,\n <__main__.Derivative at 0x7f8ad8891460>,\n <__main__.Derivative at 0x7f8ad88914f0>,\n <__main__.Derivative at 0x7f8ad8891520>,\n <__main__.Derivative at 0x7f8ad8891610>,\n <__main__.Derivative at 0x7f8ad88916d0>,\n <__main__.Derivative at 0x7f8ad8891760>,\n <__main__.Derivative at 0x7f8ad8891670>,\n <__main__.Derivative at 0x7f8ad88918e0>,\n <__main__.Derivative at 0x7f8ad88919d0>,\n <__main__.Derivative at 0x7f8ad8891880>,\n <__main__.Derivative at 0x7f8ad8891b50>,\n <__main__.Derivative at 0x7f8ad8891be0>,\n <__main__.Derivative at 0x7f8ad8891ca0>,\n <__main__.Derivative at 0x7f8ad8891d60>,\n <__main__.Derivative at 0x7f8ad8891c10>,\n <__main__.Derivative at 0x7f8ad8891f10>,\n <__main__.Derivative at 0x7f8ad8891fa0>,\n <__main__.Derivative at 0x7f8ad88950a0>,\n <__main__.Derivative at 0x7f8ad8895190>,\n <__main__.Derivative at 0x7f8ad8895220>,\n <__main__.Derivative at 0x7f8ad88952e0>,\n <__main__.Derivative at 0x7f8ad88953d0>,\n <__main__.Derivative at 0x7f8ad8895280>,\n <__main__.Derivative at 0x7f8ad8895550>,\n <__main__.Derivative at 0x7f8ad88955e0>,\n <__main__.Derivative at 0x7f8ad88954f0>,\n <__main__.Derivative at 0x7f8ad8895760>,\n <__main__.Derivative at 0x7f8ad8895850>,\n <__main__.Derivative at 0x7f8ad88958e0>,\n <__main__.Derivative at 0x7f8ad88959a0>,\n <__main__.Derivative at 0x7f8ad8895a60>,\n <__main__.Derivative at 0x7f8ad8895910>,\n <__main__.Derivative at 0x7f8ad8895c10>,\n <__main__.Derivative at 0x7f8ad8895b50>,\n <__main__.Derivative at 0x7f8ad8895d60>,\n <__main__.Derivative at 0x7f8ad8895e50>,\n <__main__.Derivative at 0x7f8ad8895ee0>,\n <__main__.Derivative at 0x7f8ad8895fa0>,\n <__main__.Derivative at 0x7f8ad88990a0>,\n <__main__.Derivative at 0x7f8ad8899160>,\n <__main__.Derivative at 0x7f8ad8899220>,\n <__main__.Derivative at 0x7f8ad88992e0>,\n <__main__.Derivative at 0x7f8ad88993a0>,\n <__main__.Derivative at 0x7f8ad8899460>,\n <__main__.Derivative at 0x7f8ad8899520>,\n <__main__.Derivative at 0x7f8ad88995e0>,\n <__main__.Derivative at 0x7f8ad8899490>,\n <__main__.Derivative at 0x7f8ad8899790>,\n <__main__.Derivative at 0x7f8ad8899820>,\n <__main__.Derivative at 0x7f8ad88998e0>,\n <__main__.Derivative at 0x7f8ad8899700>,\n <__main__.Derivative at 0x7f8ad8899a90>,\n <__main__.Derivative at 0x7f8ad8899b20>,\n <__main__.Derivative at 0x7f8ad8899be0>,\n <__main__.Derivative at 0x7f8ad8899ca0>,\n <__main__.Derivative at 0x7f8ad8899b50>,\n <__main__.Derivative at 0x7f8ad8899e50>,\n <__main__.Derivative at 0x7f8ad8899ee0>,\n <__main__.Derivative at 0x7f8ad8899fa0>,\n <__main__.Derivative at 0x7f8ad889b0a0>,\n <__main__.Derivative at 0x7f8ad889b160>,\n <__main__.Derivative at 0x7f8ad889b220>,\n <__main__.Derivative at 0x7f8ad889b040>,\n <__main__.Derivative at 0x7f8ad889b3d0>,\n <__main__.Derivative at 0x7f8ad889b460>,\n <__main__.Derivative at 0x7f8ad889b520>,\n <__main__.Derivative at 0x7f8ad889b5e0>,\n <__main__.Derivative at 0x7f8ad889b6a0>,\n <__main__.Derivative at 0x7f8ad889b760>,\n <__main__.Derivative at 0x7f8ad889b820>,\n <__main__.Derivative at 0x7f8ad889b8e0>,\n <__main__.Derivative at 0x7f8ad889b790>,\n <__main__.Derivative at 0x7f8ad889ba60>,\n <__main__.Derivative at 0x7f8ad889bb20>,\n <__main__.Derivative at 0x7f8ad889bc10>,\n <__main__.Derivative at 0x7f8ad889bca0>,\n <__main__.Derivative at 0x7f8ad889bbb0>,\n <__main__.Derivative at 0x7f8ad889be20>,\n <__main__.Derivative at 0x7f8ad889bf10>,\n <__main__.Derivative at 0x7f8ad889bdc0>,\n <__main__.Derivative at 0x7f8ad88a00d0>,\n <__main__.Derivative at 0x7f8ad88a0160>,\n <__main__.Derivative at 0x7f8ad88a0220>,\n <__main__.Derivative at 0x7f8ad88a02e0>,\n <__main__.Derivative at 0x7f8ad88a03a0>,\n <__main__.Derivative at 0x7f8ad88a0460>,\n <__main__.Derivative at 0x7f8ad88a0520>,\n <__main__.Derivative at 0x7f8ad88a05e0>,\n <__main__.Derivative at 0x7f8ad88a06a0>,\n <__main__.Derivative at 0x7f8ad88a0550>,\n <__main__.Derivative at 0x7f8ad88a0850>,\n <__main__.Derivative at 0x7f8ad88a0790>,\n <__main__.Derivative at 0x7f8ad88a09a0>,\n <__main__.Derivative at 0x7f8ad88a0a90>,\n <__main__.Derivative at 0x7f8ad88a0b20>,\n <__main__.Derivative at 0x7f8ad88a0a30>,\n <__main__.Derivative at 0x7f8ad88a0cd0>,\n <__main__.Derivative at 0x7f8ad88a0d60>,\n <__main__.Derivative at 0x7f8ad88a0e20>,\n <__main__.Derivative at 0x7f8ad88a0ee0>,\n <__main__.Derivative at 0x7f8ad88a0d90>,\n <__main__.Derivative at 0x7f8ad88a4040>,\n <__main__.Derivative at 0x7f8ad88a4190>,\n <__main__.Derivative at 0x7f8ad88a4220>,\n <__main__.Derivative at 0x7f8ad88a42e0>,\n <__main__.Derivative at 0x7f8ad88a43a0>,\n <__main__.Derivative at 0x7f8ad88a4460>,\n <__main__.Derivative at 0x7f8ad88a4520>,\n <__main__.Derivative at 0x7f8ad88a45e0>,\n <__main__.Derivative at 0x7f8ad88a46a0>,\n <__main__.Derivative at 0x7f8ad88a4760>,\n <__main__.Derivative at 0x7f8ad88a4820>,\n <__main__.Derivative at 0x7f8ad88a48e0>,\n <__main__.Derivative at 0x7f8ad88a4790>,\n <__main__.Derivative at 0x7f8ad88a4a60>,\n <__main__.Derivative at 0x7f8ad88a4b50>,\n <__main__.Derivative at 0x7f8ad88a4be0>,\n <__main__.Derivative at 0x7f8ad88a4ca0>,\n <__main__.Derivative at 0x7f8ad88a4d60>,\n <__main__.Derivative at 0x7f8ad88a4e20>,\n <__main__.Derivative at 0x7f8ad88a4ee0>,\n <__main__.Derivative at 0x7f8ad88a4fa0>,\n <__main__.Derivative at 0x7f8ad88a4f40>,\n <__main__.Derivative at 0x7f8ad88a9160>,\n <__main__.Derivative at 0x7f8ad88a9220>,\n <__main__.Derivative at 0x7f8ad88a92e0>,\n <__main__.Derivative at 0x7f8ad88a93a0>,\n <__main__.Derivative at 0x7f8ad88a9490>,\n <__main__.Derivative at 0x7f8ad88a9340>,\n <__main__.Derivative at 0x7f8ad88a95e0>,\n <__main__.Derivative at 0x7f8ad88a96d0>,\n <__main__.Derivative at 0x7f8ad88a9760>,\n <__main__.Derivative at 0x7f8ad88a9820>,\n <__main__.Derivative at 0x7f8ad88a98e0>,\n <__main__.Derivative at 0x7f8ad88a99a0>,\n <__main__.Derivative at 0x7f8ad88a9a60>,\n <__main__.Derivative at 0x7f8ad88a9b20>,\n <__main__.Derivative at 0x7f8ad88a99d0>,\n <__main__.Derivative at 0x7f8ad88a9cd0>,\n <__main__.Derivative at 0x7f8ad88a9d60>,\n <__main__.Derivative at 0x7f8ad88a9e20>,\n <__main__.Derivative at 0x7f8ad88a9c40>,\n <__main__.Derivative at 0x7f8ad88a9fd0>,\n <__main__.Derivative at 0x7f8ad88a9e50>,\n <__main__.Derivative at 0x7f8ad88ac160>,\n <__main__.Derivative at 0x7f8ad88ac250>,\n <__main__.Derivative at 0x7f8ad88ac2e0>]"
     },
     "execution_count": 5,
     "metadata": {},
     "output_type": "execute_result"
    }
   ],
   "source": [
    "derivs"
   ],
   "metadata": {
    "collapsed": false,
    "ExecuteTime": {
     "end_time": "2023-12-24T04:39:09.864668Z",
     "start_time": "2023-12-24T04:39:09.849173Z"
    }
   },
   "id": "808d2203cecd9952"
  }
 ],
 "metadata": {
  "kernelspec": {
   "display_name": "Python 3",
   "language": "python",
   "name": "python3"
  },
  "language_info": {
   "codemirror_mode": {
    "name": "ipython",
    "version": 2
   },
   "file_extension": ".py",
   "mimetype": "text/x-python",
   "name": "python",
   "nbconvert_exporter": "python",
   "pygments_lexer": "ipython2",
   "version": "2.7.6"
  }
 },
 "nbformat": 4,
 "nbformat_minor": 5
}
