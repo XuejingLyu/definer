{
 "cells": [
  {
   "cell_type": "code",
   "execution_count": 1,
   "outputs": [],
   "source": [
    "import pandas as pd\n",
    "import numpy as np\n",
    "import matplotlib.pyplot as plt\n",
    "import random\n",
    "import torch\n",
    "import torch.nn as nn\n",
    "import torch.optim as optim"
   ],
   "metadata": {
    "collapsed": false,
    "ExecuteTime": {
     "end_time": "2023-12-28T03:33:44.164581Z",
     "start_time": "2023-12-28T03:33:41.835279Z"
    }
   },
   "id": "94f0a657fd92f887"
  },
  {
   "cell_type": "code",
   "execution_count": 2,
   "outputs": [
    {
     "data": {
      "text/plain": "<torch._C.Generator at 0x7fb4add5e770>"
     },
     "execution_count": 2,
     "metadata": {},
     "output_type": "execute_result"
    }
   ],
   "source": [
    "# random_state = 0\n",
    "# random.seed(random_state)\n",
    "# np.random.seed(random_state)\n",
    "# torch.random.manual_seed(random_state)"
   ],
   "metadata": {
    "collapsed": false,
    "ExecuteTime": {
     "end_time": "2023-12-27T13:02:46.390953Z",
     "start_time": "2023-12-27T13:02:46.375391Z"
    }
   },
   "id": "f0caadf4502012f7"
  },
  {
   "cell_type": "code",
   "execution_count": 2,
   "outputs": [],
   "source": [
    "p0 = 2307.91\n",
    "c1 = p0 * 0.03\n",
    "k1 = 2700\n",
    "c2 = p0 * 0.03\n",
    "k2 = 1800\n",
    "\n",
    "w1 = 0.08\n",
    "w2 = 0.92"
   ],
   "metadata": {
    "collapsed": false,
    "ExecuteTime": {
     "end_time": "2023-12-28T03:33:57.532463Z",
     "start_time": "2023-12-28T03:33:57.520829Z"
    }
   },
   "id": "d6c3fa17447bb572"
  },
  {
   "cell_type": "code",
   "execution_count": 3,
   "outputs": [
    {
     "data": {
      "text/plain": "[<matplotlib.lines.Line2D at 0x7fdbad526640>]"
     },
     "execution_count": 3,
     "metadata": {},
     "output_type": "execute_result"
    },
    {
     "data": {
      "text/plain": "<Figure size 640x480 with 1 Axes>",
      "image/png": "[encoded data removed]"
     },
     "metadata": {},
     "output_type": "display_data"
    }
   ],
   "source": [
    "x = np.linspace(0, 5, 100)\n",
    "y = 2 * np.sqrt(x) / (x + 1) - 1\n",
    "\n",
    "y1 = (np.maximum(0, x * p0 - k1) - c1) / p0\n",
    "y2 = (np.maximum(0, k2 - x * p0) - c2) / p0\n",
    "plt.plot(x, y1 * w1 + y2 * w2, color='#DBAD4F')\n",
    "plt.plot(x, y, color='#242749')"
   ],
   "metadata": {
    "collapsed": false,
    "ExecuteTime": {
     "end_time": "2023-12-28T03:33:59.602978Z",
     "start_time": "2023-12-28T03:33:59.360519Z"
    }
   },
   "id": "69c047b9d6ea3c24"
  },
  {
   "cell_type": "code",
   "execution_count": 4,
   "outputs": [
    {
     "data": {
      "text/plain": "     mid_price  estimated_delivery_price  volume_usd quote_currency  \\\n0      0.02975                   2307.91      274.52            ETH   \n1      0.02775                   2307.91    35078.64            ETH   \n2      0.00105                   2307.91       25.10            ETH   \n3      0.08325                   2307.91     4632.38            ETH   \n4      0.00040                   2307.91      293.38            ETH   \n..         ...                       ...         ...            ...   \n713    0.00015                   2307.91      116.33            ETH   \n714    0.00090                   2307.91        0.00            ETH   \n715    0.04650                   2307.91        0.00            ETH   \n716        NaN                   2307.91        0.00            ETH   \n717        NaN                   2307.91        0.00            ETH   \n\n     creation_timestamp base_currency  interest_rate  volume underlying_index  \\\n0         1703393241971           ETH            0.0     4.0      ETH-29MAR24   \n1         1703393241971           ETH            0.0   518.0  SYN.ETH-12JAN24   \n2         1703393241971           ETH            0.0    16.0  SYN.ETH-26DEC23   \n3         1703393241971           ETH            0.0    24.0  SYN.ETH-23FEB24   \n4         1703393241972           ETH            0.0   160.0  SYN.ETH-25DEC23   \n..                  ...           ...            ...     ...              ...   \n713       1703393241982           ETH            0.0   123.0  SYN.ETH-25DEC23   \n714       1703393241982           ETH            0.0     0.0      ETH-28JUN24   \n715       1703393241982           ETH            0.0     0.0  SYN.ETH-26DEC23   \n716       1703393241982           ETH            0.0     0.0  SYN.ETH-23FEB24   \n717       1703393241982           ETH            0.0     0.0  SYN.ETH-24DEC23   \n\n     underlying_price  ...  ask_price  bid_price     instrument_name    last  \\\n0         2388.450000  ...     0.0310     0.0285  ETH-29MAR24-1800-P  0.0300   \n1         2328.810000  ...     0.0280     0.0275  ETH-12JAN24-2200-P  0.0275   \n2         2310.529823  ...     0.0012     0.0009  ETH-26DEC23-2500-C  0.0007   \n3         2362.832222  ...     0.0840     0.0825  ETH-23FEB24-2300-P  0.0845   \n4         2309.236431  ...     0.0006     0.0002  ETH-25DEC23-2225-P  0.0004   \n..                ...  ...        ...        ...                 ...     ...   \n713       2309.236431  ...     0.0002     0.0001  ETH-25DEC23-2175-P  0.0003   \n714       2442.140000  ...     0.0015     0.0003   ETH-28JUN24-500-P  0.0015   \n715       2310.529823  ...     0.0630     0.0300  ETH-26DEC23-2425-P     NaN   \n716       2362.832222  ...        NaN        NaN  ETH-23FEB24-1300-C     NaN   \n717       2307.943038  ...        NaN        NaN  ETH-24DEC23-2750-P     NaN   \n\n        low    high  currency  expire_date  strike_price option_type  \n0    0.0300  0.0300       ETH      29MAR24          1800           P  \n1    0.0275  0.0300       ETH      12JAN24          2200           P  \n2    0.0004  0.0007       ETH      26DEC23          2500           C  \n3    0.0815  0.0845       ETH      23FEB24          2300           P  \n4    0.0004  0.0025       ETH      25DEC23          2225           P  \n..      ...     ...       ...          ...           ...         ...  \n713  0.0003  0.0006       ETH      25DEC23          2175           P  \n714     NaN     NaN       ETH      28JUN24           500           P  \n715     NaN     NaN       ETH      26DEC23          2425           P  \n716     NaN     NaN       ETH      23FEB24          1300           C  \n717     NaN     NaN       ETH      24DEC23          2750           P  \n\n[718 rows x 23 columns]",
      "text/html": "<div>\n<style scoped>\n    .dataframe tbody tr th:only-of-type {\n        vertical-align: middle;\n    }\n\n    .dataframe tbody tr th {\n        vertical-align: top;\n    }\n\n    .dataframe thead th {\n        text-align: right;\n    }\n</style>\n<table border=\"1\" class=\"dataframe\">\n  <thead>\n    <tr style=\"text-align: right;\">\n      <th></th>\n      <th>mid_price</th>\n      <th>estimated_delivery_price</th>\n      <th>volume_usd</th>\n      <th>quote_currency</th>\n      <th>creation_timestamp</th>\n      <th>base_currency</th>\n      <th>interest_rate</th>\n      <th>volume</th>\n      <th>underlying_index</th>\n      <th>underlying_price</th>\n      <th>...</th>\n      <th>ask_price</th>\n      <th>bid_price</th>\n      <th>instrument_name</th>\n      <th>last</th>\n      <th>low</th>\n      <th>high</th>\n      <th>currency</th>\n      <th>expire_date</th>\n      <th>strike_price</th>\n      <th>option_type</th>\n    </tr>\n  </thead>\n  <tbody>\n    <tr>\n      <th>0</th>\n      <td>0.02975</td>\n      <td>2307.91</td>\n      <td>274.52</td>\n      <td>ETH</td>\n      <td>1703393241971</td>\n      <td>ETH</td>\n      <td>0.0</td>\n      <td>4.0</td>\n      <td>ETH-29MAR24</td>\n      <td>2388.450000</td>\n      <td>...</td>\n      <td>0.0310</td>\n      <td>0.0285</td>\n      <td>ETH-29MAR24-1800-P</td>\n      <td>0.0300</td>\n      <td>0.0300</td>\n      <td>0.0300</td>\n      <td>ETH</td>\n      <td>29MAR24</td>\n      <td>1800</td>\n      <td>P</td>\n    </tr>\n    <tr>\n      <th>1</th>\n      <td>0.02775</td>\n      <td>2307.91</td>\n      <td>35078.64</td>\n      <td>ETH</td>\n      <td>1703393241971</td>\n      <td>ETH</td>\n      <td>0.0</td>\n      <td>518.0</td>\n      <td>SYN.ETH-12JAN24</td>\n      <td>2328.810000</td>\n      <td>...</td>\n      <td>0.0280</td>\n      <td>0.0275</td>\n      <td>ETH-12JAN24-2200-P</td>\n      <td>0.0275</td>\n      <td>0.0275</td>\n      <td>0.0300</td>\n      <td>ETH</td>\n      <td>12JAN24</td>\n      <td>2200</td>\n      <td>P</td>\n    </tr>\n    <tr>\n      <th>2</th>\n      <td>0.00105</td>\n      <td>2307.91</td>\n      <td>25.10</td>\n      <td>ETH</td>\n      <td>1703393241971</td>\n      <td>ETH</td>\n      <td>0.0</td>\n      <td>16.0</td>\n      <td>SYN.ETH-26DEC23</td>\n      <td>2310.529823</td>\n      <td>...</td>\n      <td>0.0012</td>\n      <td>0.0009</td>\n      <td>ETH-26DEC23-2500-C</td>\n      <td>0.0007</td>\n      <td>0.0004</td>\n      <td>0.0007</td>\n      <td>ETH</td>\n      <td>26DEC23</td>\n      <td>2500</td>\n      <td>C</td>\n    </tr>\n    <tr>\n      <th>3</th>\n      <td>0.08325</td>\n      <td>2307.91</td>\n      <td>4632.38</td>\n      <td>ETH</td>\n      <td>1703393241971</td>\n      <td>ETH</td>\n      <td>0.0</td>\n      <td>24.0</td>\n      <td>SYN.ETH-23FEB24</td>\n      <td>2362.832222</td>\n      <td>...</td>\n      <td>0.0840</td>\n      <td>0.0825</td>\n      <td>ETH-23FEB24-2300-P</td>\n      <td>0.0845</td>\n      <td>0.0815</td>\n      <td>0.0845</td>\n      <td>ETH</td>\n      <td>23FEB24</td>\n      <td>2300</td>\n      <td>P</td>\n    </tr>\n    <tr>\n      <th>4</th>\n      <td>0.00040</td>\n      <td>2307.91</td>\n      <td>293.38</td>\n      <td>ETH</td>\n      <td>1703393241972</td>\n      <td>ETH</td>\n      <td>0.0</td>\n      <td>160.0</td>\n      <td>SYN.ETH-25DEC23</td>\n      <td>2309.236431</td>\n      <td>...</td>\n      <td>0.0006</td>\n      <td>0.0002</td>\n      <td>ETH-25DEC23-2225-P</td>\n      <td>0.0004</td>\n      <td>0.0004</td>\n      <td>0.0025</td>\n      <td>ETH</td>\n      <td>25DEC23</td>\n      <td>2225</td>\n      <td>P</td>\n    </tr>\n    <tr>\n      <th>...</th>\n      <td>...</td>\n      <td>...</td>\n      <td>...</td>\n      <td>...</td>\n      <td>...</td>\n      <td>...</td>\n      <td>...</td>\n      <td>...</td>\n      <td>...</td>\n      <td>...</td>\n      <td>...</td>\n      <td>...</td>\n      <td>...</td>\n      <td>...</td>\n      <td>...</td>\n      <td>...</td>\n      <td>...</td>\n      <td>...</td>\n      <td>...</td>\n      <td>...</td>\n      <td>...</td>\n    </tr>\n    <tr>\n      <th>713</th>\n      <td>0.00015</td>\n      <td>2307.91</td>\n      <td>116.33</td>\n      <td>ETH</td>\n      <td>1703393241982</td>\n      <td>ETH</td>\n      <td>0.0</td>\n      <td>123.0</td>\n      <td>SYN.ETH-25DEC23</td>\n      <td>2309.236431</td>\n      <td>...</td>\n      <td>0.0002</td>\n      <td>0.0001</td>\n      <td>ETH-25DEC23-2175-P</td>\n      <td>0.0003</td>\n      <td>0.0003</td>\n      <td>0.0006</td>\n      <td>ETH</td>\n      <td>25DEC23</td>\n      <td>2175</td>\n      <td>P</td>\n    </tr>\n    <tr>\n      <th>714</th>\n      <td>0.00090</td>\n      <td>2307.91</td>\n      <td>0.00</td>\n      <td>ETH</td>\n      <td>1703393241982</td>\n      <td>ETH</td>\n      <td>0.0</td>\n      <td>0.0</td>\n      <td>ETH-28JUN24</td>\n      <td>2442.140000</td>\n      <td>...</td>\n      <td>0.0015</td>\n      <td>0.0003</td>\n      <td>ETH-28JUN24-500-P</td>\n      <td>0.0015</td>\n      <td>NaN</td>\n      <td>NaN</td>\n      <td>ETH</td>\n      <td>28JUN24</td>\n      <td>500</td>\n      <td>P</td>\n    </tr>\n    <tr>\n      <th>715</th>\n      <td>0.04650</td>\n      <td>2307.91</td>\n      <td>0.00</td>\n      <td>ETH</td>\n      <td>1703393241982</td>\n      <td>ETH</td>\n      <td>0.0</td>\n      <td>0.0</td>\n      <td>SYN.ETH-26DEC23</td>\n      <td>2310.529823</td>\n      <td>...</td>\n      <td>0.0630</td>\n      <td>0.0300</td>\n      <td>ETH-26DEC23-2425-P</td>\n      <td>NaN</td>\n      <td>NaN</td>\n      <td>NaN</td>\n      <td>ETH</td>\n      <td>26DEC23</td>\n      <td>2425</td>\n      <td>P</td>\n    </tr>\n    <tr>\n      <th>716</th>\n      <td>NaN</td>\n      <td>2307.91</td>\n      <td>0.00</td>\n      <td>ETH</td>\n      <td>1703393241982</td>\n      <td>ETH</td>\n      <td>0.0</td>\n      <td>0.0</td>\n      <td>SYN.ETH-23FEB24</td>\n      <td>2362.832222</td>\n      <td>...</td>\n      <td>NaN</td>\n      <td>NaN</td>\n      <td>ETH-23FEB24-1300-C</td>\n      <td>NaN</td>\n      <td>NaN</td>\n      <td>NaN</td>\n      <td>ETH</td>\n      <td>23FEB24</td>\n      <td>1300</td>\n      <td>C</td>\n    </tr>\n    <tr>\n      <th>717</th>\n      <td>NaN</td>\n      <td>2307.91</td>\n      <td>0.00</td>\n      <td>ETH</td>\n      <td>1703393241982</td>\n      <td>ETH</td>\n      <td>0.0</td>\n      <td>0.0</td>\n      <td>SYN.ETH-24DEC23</td>\n      <td>2307.943038</td>\n      <td>...</td>\n      <td>NaN</td>\n      <td>NaN</td>\n      <td>ETH-24DEC23-2750-P</td>\n      <td>NaN</td>\n      <td>NaN</td>\n      <td>NaN</td>\n      <td>ETH</td>\n      <td>24DEC23</td>\n      <td>2750</td>\n      <td>P</td>\n    </tr>\n  </tbody>\n</table>\n<p>718 rows × 23 columns</p>\n</div>"
     },
     "execution_count": 4,
     "metadata": {},
     "output_type": "execute_result"
    }
   ],
   "source": [
    "df_instrument = pd.read_csv('./data/deribit_instruments.csv', index_col=[0])\n",
    "df_instrument[['currency', 'expire_date', 'strike_price', 'option_type']] = df_instrument.instrument_name.str.split('-', expand=True)\n",
    "df_instrument"
   ],
   "metadata": {
    "collapsed": false,
    "ExecuteTime": {
     "end_time": "2023-12-28T03:34:09.449122Z",
     "start_time": "2023-12-28T03:34:09.381548Z"
    }
   },
   "id": "4b72d450668dcf47"
  },
  {
   "cell_type": "code",
   "execution_count": 5,
   "outputs": [],
   "source": [
    "p0 = df_instrument.estimated_delivery_price.mean()\n",
    "x = np.linspace(0, 5, 100)\n",
    "x_list = []\n",
    "\n",
    "for i in df_instrument.index:\n",
    "    c = float(df_instrument.iloc[i]['last'] * p0)\n",
    "    k = float(df_instrument.iloc[i]['strike_price'])\n",
    "    if df_instrument.iloc[i]['option_type'] == 'C':\n",
    "        yl = (np.maximum(0, x * p0 - k) - c) / p0\n",
    "        # ys = (c - np.maximum(0, x * p0 - k)) / p0\n",
    "    else:\n",
    "        yl = (np.maximum(0, k - x * p0) - c) / p0\n",
    "        # ys = (c - np.maximum(0, k - x * p0)) / p0\n",
    "    x_list.append(yl)\n",
    "    # x_list.append(ys)"
   ],
   "metadata": {
    "collapsed": false,
    "ExecuteTime": {
     "end_time": "2023-12-28T03:34:11.815368Z",
     "start_time": "2023-12-28T03:34:11.474195Z"
    }
   },
   "id": "9a19d4d412334025"
  },
  {
   "cell_type": "code",
   "execution_count": 6,
   "outputs": [
    {
     "name": "stdout",
     "output_type": "stream",
     "text": [
      "[1.00000000e+00 5.72142395e-01 4.22674029e-01 3.23935127e-01\n",
      " 2.52148052e-01 1.97590777e-01 1.55074320e-01 1.21429095e-01\n",
      " 9.45535124e-02 7.29751891e-02 5.56209880e-02 4.16851525e-02\n",
      " 3.05484846e-02 2.17261983e-02 1.48328810e-02 9.55816439e-03\n",
      " 5.64936486e-03 2.89881404e-03 1.13443031e-03 2.12585036e-04\n",
      " 1.26260235e-05 4.32619531e-04 1.38600205e-03 2.79892091e-03\n",
      " 4.60810276e-03 6.75913119e-03 9.20504448e-03 1.19051863e-02\n",
      " 1.48242576e-02 1.79315304e-02 2.12001922e-02 2.46067958e-02\n",
      " 2.81307971e-02 3.17541634e-02 3.54610419e-02 3.92374758e-02\n",
      " 4.30711630e-02 4.69512477e-02 5.08681425e-02 5.48133733e-02\n",
      " 5.87794462e-02 6.27597313e-02 6.67483619e-02 7.07401466e-02\n",
      " 7.47304921e-02 7.87153360e-02 8.26910877e-02 8.66545759e-02\n",
      " 9.06030033e-02 9.45339056e-02 9.84451162e-02 1.02334734e-01\n",
      " 1.06201095e-01 1.10042748e-01 1.13858433e-01 1.17647059e-01\n",
      " 1.21407688e-01 1.25139520e-01 1.28841877e-01 1.32514191e-01\n",
      " 1.36155993e-01 1.39766904e-01 1.43346622e-01 1.46894919e-01\n",
      " 1.50411629e-01 1.53896646e-01 1.57349912e-01 1.60771417e-01\n",
      " 1.64161193e-01 1.67519306e-01 1.70845859e-01 1.74140980e-01\n",
      " 1.77404825e-01 1.80637573e-01 1.83839425e-01 1.87010596e-01\n",
      " 1.90151321e-01 1.93261848e-01 1.96342435e-01 1.99393352e-01\n",
      " 2.02414880e-01 2.05407305e-01 2.08370921e-01 2.11306027e-01\n",
      " 2.14212926e-01 2.17091928e-01 2.19943341e-01 2.22767478e-01\n",
      " 2.25564655e-01 2.28335185e-01 2.31079384e-01 2.33797567e-01\n",
      " 2.36490050e-01 2.39157147e-01 2.41799170e-01 2.44416431e-01\n",
      " 2.47009238e-01 2.49577901e-01 2.52122723e-01 2.54644008e-01]\n"
     ]
    }
   ],
   "source": [
    "x = np.linspace(0, 5, 100)\n",
    "y = 2 * np.sqrt(x) / (x + 1) - 1\n",
    "print(-y)"
   ],
   "metadata": {
    "collapsed": false,
    "ExecuteTime": {
     "end_time": "2023-12-28T03:34:12.925750Z",
     "start_time": "2023-12-28T03:34:12.908424Z"
    }
   },
   "id": "bd6b2b89aecbc30"
  },
  {
   "cell_type": "code",
   "execution_count": 7,
   "outputs": [
    {
     "data": {
      "text/plain": "array([[-0.872     , -0.872     , -0.85764839, ...,  3.94033141,\n         3.99083646,  4.04134151],\n       [-0.79      , -0.79      , -0.79      , ...,  3.93567292,\n         3.98617797,  4.03668302],\n       [-0.784     , -0.784     , -0.784     , ...,  3.89834367,\n         3.94884872,  3.99935377],\n       ...,\n       [ 1.1014623 ,  1.05095725,  1.0004522 , ..., -1.065     ,\n        -1.065     , -1.065     ],\n       [ 1.17125476,  1.12074971,  1.07024466, ..., -1.4285    ,\n        -1.4285    , -1.4285    ],\n       [ 1.22519345,  1.1746884 ,  1.12418334, ..., -2.0245    ,\n        -2.0245    , -2.0245    ]])"
     },
     "execution_count": 7,
     "metadata": {},
     "output_type": "execute_result"
    }
   ],
   "source": [
    "mat_X = np.array(x_list)\n",
    "mat_X = mat_X[~np.isnan(mat_X).any(axis=1)]\n",
    "mat_X = np.unique(mat_X, axis=0)\n",
    "mat_X"
   ],
   "metadata": {
    "collapsed": false,
    "ExecuteTime": {
     "end_time": "2023-12-28T03:34:15.243528Z",
     "start_time": "2023-12-28T03:34:15.230759Z"
    }
   },
   "id": "3d80413c5a589edf"
  },
  {
   "cell_type": "code",
   "execution_count": 8,
   "outputs": [
    {
     "data": {
      "text/plain": "[<matplotlib.lines.Line2D at 0x7fdbad9a8220>]"
     },
     "execution_count": 8,
     "metadata": {},
     "output_type": "execute_result"
    },
    {
     "data": {
      "text/plain": "<Figure size 640x480 with 1 Axes>",
      "image/png": "[encoded data removed]"
     },
     "metadata": {},
     "output_type": "display_data"
    }
   ],
   "source": [
    "plt.plot(mat_X[350])\n",
    "plt.plot(y)"
   ],
   "metadata": {
    "collapsed": false,
    "ExecuteTime": {
     "end_time": "2023-12-28T03:34:17.870091Z",
     "start_time": "2023-12-28T03:34:17.673998Z"
    }
   },
   "id": "5665066e0a91c776"
  },
  {
   "cell_type": "code",
   "execution_count": 9,
   "outputs": [
    {
     "data": {
      "text/plain": "array([1.00000000e+00, 5.72142395e-01, 4.22674029e-01, 3.23935127e-01,\n       2.52148052e-01, 1.97590777e-01, 1.55074320e-01, 1.21429095e-01,\n       9.45535124e-02, 7.29751891e-02, 5.56209880e-02, 4.16851525e-02,\n       3.05484846e-02, 2.17261983e-02, 1.48328810e-02, 9.55816439e-03,\n       5.64936486e-03, 2.89881404e-03, 1.13443031e-03, 2.12585036e-04,\n       1.26260235e-05, 4.32619531e-04, 1.38600205e-03, 2.79892091e-03,\n       4.60810276e-03, 6.75913119e-03, 9.20504448e-03, 1.19051863e-02,\n       1.48242576e-02, 1.79315304e-02, 2.12001922e-02, 2.46067958e-02,\n       2.81307971e-02, 3.17541634e-02, 3.54610419e-02, 3.92374758e-02,\n       4.30711630e-02, 4.69512477e-02, 5.08681425e-02, 5.48133733e-02,\n       5.87794462e-02, 6.27597313e-02, 6.67483619e-02, 7.07401466e-02,\n       7.47304921e-02, 7.87153360e-02, 8.26910877e-02, 8.66545759e-02,\n       9.06030033e-02, 9.45339056e-02, 9.84451162e-02, 1.02334734e-01,\n       1.06201095e-01, 1.10042748e-01, 1.13858433e-01, 1.17647059e-01,\n       1.21407688e-01, 1.25139520e-01, 1.28841877e-01, 1.32514191e-01,\n       1.36155993e-01, 1.39766904e-01, 1.43346622e-01, 1.46894919e-01,\n       1.50411629e-01, 1.53896646e-01, 1.57349912e-01, 1.60771417e-01,\n       1.64161193e-01, 1.67519306e-01, 1.70845859e-01, 1.74140980e-01,\n       1.77404825e-01, 1.80637573e-01, 1.83839425e-01, 1.87010596e-01,\n       1.90151321e-01, 1.93261848e-01, 1.96342435e-01, 1.99393352e-01,\n       2.02414880e-01, 2.05407305e-01, 2.08370921e-01, 2.11306027e-01,\n       2.14212926e-01, 2.17091928e-01, 2.19943341e-01, 2.22767478e-01,\n       2.25564655e-01, 2.28335185e-01, 2.31079384e-01, 2.33797567e-01,\n       2.36490050e-01, 2.39157147e-01, 2.41799170e-01, 2.44416431e-01,\n       2.47009238e-01, 2.49577901e-01, 2.52122723e-01, 2.54644008e-01])"
     },
     "execution_count": 9,
     "metadata": {},
     "output_type": "execute_result"
    }
   ],
   "source": [
    "np.array(-y)"
   ],
   "metadata": {
    "collapsed": false,
    "ExecuteTime": {
     "end_time": "2023-12-28T03:34:20.526249Z",
     "start_time": "2023-12-28T03:34:20.514294Z"
    }
   },
   "id": "2e1739b9f3f1f8ea"
  },
  {
   "cell_type": "code",
   "execution_count": 8,
   "outputs": [],
   "source": [
    "w = np.matmul(np.matmul(np.linalg.inv(np.matmul(mat_X, mat_X.transpose())), mat_X), np.array(-y))"
   ],
   "metadata": {
    "collapsed": false,
    "ExecuteTime": {
     "end_time": "2023-12-27T13:05:24.913355Z",
     "start_time": "2023-12-27T13:05:24.880132Z"
    }
   },
   "id": "24b2ec7e0c9f472"
  },
  {
   "cell_type": "code",
   "execution_count": 9,
   "outputs": [],
   "source": [
    "X = torch.from_numpy(mat_X.transpose())\n",
    "Y = torch.from_numpy(-y)\n",
    "X = X.float()\n",
    "Y = Y.float()"
   ],
   "metadata": {
    "collapsed": false,
    "ExecuteTime": {
     "end_time": "2023-12-27T13:05:26.430097Z",
     "start_time": "2023-12-27T13:05:26.424214Z"
    }
   },
   "id": "51ab480dc2024d34"
  },
  {
   "cell_type": "code",
   "execution_count": 14,
   "outputs": [],
   "source": [
    "# Define a linear regression model\n",
    "class LinearRegressionModel(nn.Module):\n",
    "    def __init__(self, input_size):\n",
    "        super(LinearRegressionModel, self).__init__()\n",
    "        self.linear = nn.Linear(input_size, 1)  # One output for regression\n",
    "\n",
    "    def forward(self, x):\n",
    "        return self.linear(x)\n",
    "\n",
    "# Instantiate the model\n",
    "input_size = X.shape[1]\n",
    "model = LinearRegressionModel(input_size)\n",
    "\n",
    "# Define the loss function (Mean Squared Error)\n",
    "criterion = nn.MSELoss()\n",
    "\n",
    "# Define the optimizer (Stochastic Gradient Descent)\n",
    "optimizer = optim.SGD(model.parameters(), lr=0.0001)"
   ],
   "metadata": {
    "collapsed": false,
    "ExecuteTime": {
     "end_time": "2023-12-27T13:06:35.422044Z",
     "start_time": "2023-12-27T13:06:35.412332Z"
    }
   },
   "id": "888ce1e3782be57"
  },
  {
   "cell_type": "code",
   "execution_count": 15,
   "outputs": [
    {
     "name": "stderr",
     "output_type": "stream",
     "text": [
      "/Users/chengjiaxiang/opt/anaconda3/envs/survml/lib/python3.8/site-packages/torch/nn/modules/loss.py:536: UserWarning: Using a target size (torch.Size([])) that is different to the input size (torch.Size([1])). This will likely lead to incorrect results due to broadcasting. Please ensure they have the same size.\n",
      "  return F.mse_loss(input, target, reduction=self.reduction)\n"
     ]
    },
    {
     "name": "stdout",
     "output_type": "stream",
     "text": [
      "11.919665841385722\n",
      "1.2077703373506665\n",
      "1.0864755185320973\n",
      "1.060258321929723\n",
      "1.03935127845034\n",
      "1.0216325360815972\n",
      "1.0061581355985254\n",
      "0.9922937981318682\n",
      "0.9796096307691187\n",
      "0.967813044320792\n",
      "0.9567041026894003\n",
      "0.9461447428911924\n",
      "0.9360395942348987\n",
      "0.9263208855409175\n",
      "0.9169405081775039\n",
      "0.9078632693272084\n",
      "0.8990627680905163\n",
      "0.8905186981428415\n",
      "0.882215132471174\n",
      "0.8741383587475866\n",
      "0.8662777210120112\n",
      "0.858623139327392\n",
      "0.851165994303301\n",
      "0.8438985839020461\n",
      "0.8368139639496803\n",
      "0.829904877115041\n",
      "0.8231651159003377\n",
      "0.8165890227537602\n",
      "0.8101703701540828\n",
      "0.8039043059106916\n",
      "0.7977852488402277\n",
      "0.7918083493132144\n",
      "0.7859688741154969\n",
      "0.7802623121533543\n",
      "0.7746841895859689\n",
      "0.7692302437499166\n",
      "0.7638965940568596\n",
      "0.7586791056673974\n",
      "0.753574303118512\n",
      "0.7485784683376551\n",
      "0.7436881593894213\n",
      "0.7388999508693814\n",
      "0.7342109240125865\n",
      "0.7296176897361875\n",
      "0.7251174240373075\n",
      "0.7207072372548282\n",
      "0.7163844599854201\n",
      "0.712146314792335\n",
      "0.7079904242418706\n",
      "0.7039142469875515\n",
      "0.6999152989592403\n",
      "0.6959915538318455\n",
      "0.6921406553592533\n",
      "0.6883606866467744\n",
      "0.6846493349876255\n",
      "0.6810048394836485\n",
      "0.677425364498049\n",
      "0.673908893018961\n",
      "0.6704539216589183\n",
      "0.6670584848616272\n",
      "0.6637211083434522\n",
      "0.6604401536751539\n",
      "0.6572143400553614\n",
      "0.6540419606026262\n",
      "0.6509216208942235\n",
      "0.6478520350065082\n",
      "0.64483178476803\n",
      "0.6418599381577224\n",
      "0.638934857212007\n",
      "0.6360554839484394\n",
      "0.6332208409439772\n",
      "0.6304296716116369\n",
      "0.6276809656992555\n",
      "0.6249735718593001\n",
      "0.622306841891259\n",
      "0.6196793087292463\n",
      "0.6170903982128948\n",
      "0.6145392283797264\n",
      "0.6120246793143451\n",
      "0.6095462255179882\n",
      "0.607102865120396\n",
      "0.6046937566716224\n",
      "0.6023183427751064\n",
      "0.5999755100347102\n",
      "0.5976650600787252\n",
      "0.5953859454020858\n",
      "0.5931376602966338\n",
      "0.5909193051047623\n",
      "0.58873066236265\n",
      "0.5865707625634968\n",
      "0.5844391451682895\n",
      "0.5823354264721274\n",
      "0.5802586004137993\n",
      "0.5782085561659187\n",
      "0.5761845291126519\n",
      "0.574186135083437\n",
      "0.5722127144690603\n",
      "0.5702640472445637\n",
      "0.5683394423685968\n",
      "0.566438557812944\n",
      "0.5645608943887055\n",
      "0.5627061314880848\n",
      "0.5608737079892308\n",
      "0.5590634148102254\n",
      "0.5572745802346617\n",
      "0.5555070429109037\n",
      "0.5537603392731398\n",
      "0.5520340469665825\n",
      "0.5503281052224338\n",
      "0.5486418346408755\n",
      "0.5469751222990453\n",
      "0.5453274510800838\n",
      "0.5436986926943064\n",
      "0.5420882734470069\n",
      "0.5404962534084916\n",
      "0.5389221226796508\n",
      "0.5373654344584793\n",
      "0.5358262117952108\n",
      "0.5343040409497917\n",
      "0.5327988308854401\n",
      "0.531309922458604\n",
      "0.5298374728299677\n",
      "0.5283809818793088\n",
      "0.5269403178244829\n",
      "0.5255150941666216\n",
      "0.5241052773781121\n",
      "0.5227105878293514\n",
      "0.5213307882659137\n",
      "0.5199655687902123\n",
      "0.5186148169450462\n",
      "0.5172783604357392\n",
      "0.5159558923915029\n",
      "0.5146472619380802\n",
      "0.5133522287942469\n",
      "0.5120707429014146\n",
      "0.5108023404609412\n",
      "0.5095471646636724\n",
      "0.5083048341330141\n",
      "0.507075167261064\n",
      "0.5058581142220646\n",
      "0.5046533313579857\n",
      "0.5034610109869391\n",
      "0.5022804581094533\n",
      "0.5011118294205517\n",
      "0.49995505227707326\n",
      "0.49880971387028694\n",
      "0.49767581722699106\n",
      "0.496553240576759\n",
      "0.4954418067354709\n",
      "0.4943413380533457\n",
      "0.4932515937834978\n",
      "0.4921727729961276\n",
      "0.49110431247390807\n",
      "0.4900463316589594\n",
      "0.48899871576577425\n",
      "0.48796120868064463\n",
      "0.48693366860970855\n",
      "0.48591606644913554\n",
      "0.48490836611017585\n",
      "0.4839102611877024\n",
      "0.48292177729308605\n",
      "0.4819426336325705\n",
      "0.4809728201944381\n",
      "0.48001220100559294\n",
      "0.47906076442450285\n",
      "0.4781183071900159\n",
      "0.47718463093042374\n",
      "0.4762599852401763\n",
      "0.4753435414750129\n",
      "0.47443595831282437\n",
      "0.47353690722957253\n",
      "0.4726460766978562\n",
      "0.47176348650828004\n",
      "0.4708890630863607\n",
      "0.4700227379798889\n",
      "0.46916436799801886\n",
      "0.4683139624539763\n",
      "0.4674711951520294\n",
      "0.46663615573197603\n",
      "0.4658087531570345\n",
      "0.46498892758972943\n",
      "0.4641764718107879\n",
      "0.46337136696092784\n",
      "0.4625734817236662\n",
      "0.46178288222290576\n",
      "0.46099935192614794\n",
      "0.4602227471768856\n",
      "0.45945319486781955\n",
      "0.45869037602096796\n",
      "0.4579344969242811\n",
      "0.45718515710905194\n",
      "0.4564425547141582\n",
      "0.45570638170465827\n",
      "0.4549767575226724\n",
      "0.45425348402932286\n",
      "0.453536628279835\n",
      "0.45282598841004074\n",
      "0.4521215239074081\n",
      "0.4514232303481549\n",
      "0.4507309200707823\n",
      "0.45004473254084587\n",
      "0.4493643455207348\n",
      "0.4486898551695049\n",
      "0.44802112341858447\n",
      "0.4473581318743527\n",
      "0.44670073804445565\n",
      "0.44604907161556184\n",
      "0.44540288392454386\n",
      "0.44476217101328075\n",
      "0.44412681739777327\n",
      "0.4434969676658511\n",
      "0.4428722329903394\n",
      "0.4422529365401715\n",
      "0.44163872534409165\n",
      "0.4410296257119626\n",
      "0.4404255780391395\n",
      "0.4398266414646059\n",
      "0.4392325559165329\n",
      "0.4386434741318226\n",
      "0.43805913953110576\n",
      "0.43747981009073555\n",
      "0.43690512771718204\n",
      "0.4363349957857281\n",
      "0.4357696915976703\n",
      "0.4352088894229382\n",
      "0.43465263210237026\n",
      "0.43410095293074846\n",
      "0.43355375924147666\n",
      "0.43301086383871734\n",
      "0.43247233028523624\n",
      "0.43193810945376754\n",
      "0.43140817526727915\n",
      "0.43088242830708623\n",
      "0.43036101665347815\n",
      "0.4298435519449413\n",
      "0.4293302842415869\n",
      "0.4288209730293602\n",
      "0.4283157465979457\n",
      "0.4278143644332886\n",
      "0.4273170151282102\n",
      "0.4268234053160995\n",
      "0.4263336816802621\n",
      "0.4258477932307869\n",
      "0.4253656645305455\n",
      "0.4248871763702482\n",
      "0.4244123832322657\n",
      "0.42394132912158966\n",
      "0.42347380984574556\n",
      "0.4230097522959113\n",
      "0.4225492822006345\n",
      "0.422092319233343\n",
      "0.42163882753811777\n",
      "0.4211886622942984\n",
      "0.4207419506274164\n",
      "0.4202985311858356\n",
      "0.4198583841789514\n",
      "0.4194215885363519\n",
      "0.41898808162659407\n",
      "0.41855761548504233\n",
      "0.41813043714500964\n",
      "0.417706300271675\n",
      "0.41728525538928807\n",
      "0.4168674231041223\n",
      "0.4164525158703327\n",
      "0.416040631942451\n",
      "0.4156317536253482\n",
      "0.41522581316530704\n",
      "0.4148228042759001\n",
      "0.4144227069336921\n",
      "0.41402541589923203\n",
      "0.41363100009039044\n",
      "0.41323926486074924\n",
      "0.41285040555521846\n",
      "0.41246427269652486\n",
      "0.41208082251250744\n",
      "0.4117000463884324\n",
      "0.4113220162689686\n",
      "0.4109464781358838\n",
      "0.41057368111796677\n",
      "0.41020327084697783\n",
      "0.4098355870228261\n",
      "0.40947036538273096\n",
      "0.40910762664861977\n",
      "0.40874741738662124\n",
      "0.4083896584343165\n",
      "0.40803419798612595\n",
      "0.4076812365092337\n",
      "0.4073306820355356\n",
      "0.4069824169855565\n",
      "0.4066364106256515\n",
      "0.4062927607446909\n",
      "0.40595149155706167\n",
      "0.4056123250629753\n",
      "0.4052755180746317\n",
      "0.4049408114515245\n",
      "0.40460833674296737\n",
      "0.40427806810475886\n",
      "0.40394992218352854\n",
      "0.4036239243578166\n",
      "0.40330005856230855\n",
      "0.4029780973214656\n",
      "0.4026582492515445\n",
      "0.4023405620828271\n",
      "0.4020247890148312\n",
      "0.4017110781278461\n",
      "0.40139936725609004\n",
      "0.4010894785169512\n",
      "0.40078167570754886\n",
      "0.40047567430883646\n",
      "0.4001716785132885\n",
      "0.39986953139305115\n",
      "0.3995691684540361\n",
      "0.39927070564590394\n",
      "0.3989741432014853\n",
      "0.39867929671891034\n",
      "0.398386268876493\n",
      "0.39809506037272513\n",
      "0.39780544792301953\n",
      "0.39751775027252734\n",
      "0.39723180420696735\n",
      "0.3969473538454622\n",
      "0.3966647821944207\n",
      "0.3963837753981352\n",
      "0.3961044102907181\n",
      "0.39582673250697553\n",
      "0.3955507257487625\n",
      "0.39527632226236165\n",
      "0.395003451500088\n",
      "0.39473206689581275\n",
      "0.3944623158313334\n",
      "0.3941942001692951\n",
      "0.39392754854634404\n",
      "0.3936624035704881\n",
      "0.3933987801428884\n",
      "0.39313664520159364\n",
      "0.3928758758120239\n",
      "0.39261666079983115\n",
      "0.3923588574398309\n",
      "0.3921024890150875\n",
      "0.3918475660029799\n",
      "0.39159406046383083\n",
      "0.3913418687880039\n",
      "0.3910911742132157\n",
      "0.39084181375801563\n",
      "0.390593706863001\n",
      "0.3903470484074205\n",
      "0.3901015908923\n",
      "0.38985750125721097\n",
      "0.38961468427442014\n",
      "0.3893732507713139\n",
      "0.38913300121203065\n",
      "0.38889413024298847\n",
      "0.3886563142295927\n",
      "0.38841985864564776\n",
      "0.3881846077274531\n",
      "0.3879505533259362\n",
      "0.387717735953629\n",
      "0.3874861744698137\n",
      "0.3872556120622903\n",
      "0.3870262529235333\n",
      "0.38679821509867907\n",
      "0.38657128694467247\n",
      "0.3863454021047801\n",
      "0.38612069725058973\n",
      "0.38589704874902964\n",
      "0.3856746363453567\n",
      "0.38545329053886235\n",
      "0.38523298338986933\n",
      "0.38501374376937747\n",
      "0.38479557167738676\n",
      "0.38457842101342976\n",
      "0.3843623932916671\n",
      "0.38414742751047015\n",
      "0.383933343924582\n",
      "0.3837204175069928\n",
      "0.3835084158927202\n",
      "0.3832974743563682\n",
      "0.383087492082268\n",
      "0.3828784744255245\n",
      "0.38267051335424185\n",
      "0.38246345496736467\n",
      "0.3822573071811348\n",
      "0.38205212308093905\n",
      "0.381847980665043\n",
      "0.3816446822602302\n",
      "0.38144229841418564\n",
      "0.3812408996745944\n",
      "0.3810402792878449\n",
      "0.3808406514581293\n",
      "0.38064188905991614\n",
      "0.3804439133964479\n",
      "0.3802469060756266\n",
      "0.38005081797018647\n",
      "0.3798555098474026\n",
      "0.3796611023135483\n",
      "0.3794675094541162\n",
      "0.37927472149021924\n",
      "0.379082765430212\n",
      "0.37889166455715895\n",
      "0.3787013979163021\n",
      "0.378511949442327\n",
      "0.3783231768757105\n",
      "0.378135311184451\n",
      "0.37794809392653406\n",
      "0.37776186666451395\n",
      "0.37757627945393324\n",
      "0.3773913597688079\n",
      "0.3772074531298131\n",
      "0.3770241951569915\n",
      "0.3768415867816657\n",
      "0.37665973603725433\n",
      "0.37647870485670865\n",
      "0.37629831675440073\n",
      "0.37611864041537046\n",
      "0.37593978829681873\n",
      "0.3757615282665938\n",
      "0.37558408291079104\n",
      "0.3754072932060808\n",
      "0.3752311144489795\n",
      "0.3750556819140911\n",
      "0.37488085869699717\n",
      "0.3747068094089627\n",
      "0.3745333331171423\n",
      "0.37436069920659065\n",
      "0.37418857449665666\n",
      "0.3740171028766781\n",
      "0.37384627293795347\n",
      "0.3736761212348938\n",
      "0.373506551142782\n",
      "0.3733376688323915\n",
      "0.3731694696471095\n",
      "0.3730017270427197\n",
      "0.3728346966672689\n",
      "0.3726682090200484\n",
      "0.37250245572067797\n",
      "0.37233714293688536\n",
      "0.3721725018694997\n",
      "0.37200843426398933\n",
      "0.3718449880834669\n",
      "0.3716822168789804\n",
      "0.3715197804849595\n",
      "0.37135805771686137\n",
      "0.3711968450807035\n",
      "0.3710362312849611\n",
      "0.37087614880874753\n",
      "0.37071668705902994\n",
      "0.37055772356688976\n",
      "0.3703993340022862\n",
      "0.37024142127484083\n",
      "0.37008415046148\n",
      "0.36992725916206837\n",
      "0.36977091524749994\n",
      "0.3696151322219521\n",
      "0.36945988703519106\n",
      "0.3693052614107728\n",
      "0.36915094521827996\n",
      "0.36899724090471864\n",
      "0.36884402530267835\n",
      "0.3686913053970784\n",
      "0.3685390374157578\n",
      "0.36838730913586915\n",
      "0.36823608237318695\n",
      "0.3680852553807199\n",
      "0.3679350030142814\n",
      "0.36778527521528304\n",
      "0.36763585917651653\n",
      "0.3674870312679559\n",
      "0.3673385879956186\n",
      "0.36719062202610075\n",
      "0.3670431924983859\n",
      "0.366896144580096\n",
      "0.36674952134490013\n",
      "0.3666034454945475\n",
      "0.36645770678296685\n",
      "0.3663125317543745\n",
      "0.36616769270040095\n",
      "0.366023265523836\n",
      "0.36587933939881623\n",
      "0.3657358596101403\n",
      "0.36559268506243825\n",
      "0.3654500625561923\n",
      "0.3653077830094844\n",
      "0.36516592442058027\n",
      "0.36502452683635056\n",
      "0.3648835562635213\n",
      "0.36474297172389925\n",
      "0.3646027718205005\n",
      "0.36446297098882496\n",
      "0.3643235685303807\n",
      "0.364184545353055\n",
      "0.36404589121229947\n",
      "0.36390765267424285\n",
      "0.36376983555965126\n",
      "0.36363240610808134\n",
      "0.3634952816646546\n",
      "0.36335852229967713\n",
      "0.36322227609343827\n",
      "0.3630863046273589\n",
      "0.36295070638880134\n",
      "0.3628156129270792\n"
     ]
    }
   ],
   "source": [
    "for epoch in range(500):\n",
    "    epoch_loss = 0\n",
    "    optimizer.zero_grad()\n",
    "    for i in range(50):\n",
    "        predictions = model(X[i])\n",
    "        \n",
    "        # print(X[i])\n",
    "        # print(predictions)\n",
    "        mse_loss = criterion(predictions, Y[i])\n",
    "        l2_reg = sum(p.pow(2.0).sum() for p in model.parameters()) * 0.01\n",
    "        loss = mse_loss + l2_reg\n",
    "        # print(loss)\n",
    "        \n",
    "        epoch_loss += loss.item()\n",
    "        # # Backward pass and optimization\n",
    "        # optimizer.zero_grad()\n",
    "        loss.backward()\n",
    "    \n",
    "    optimizer.step()\n",
    "    \n",
    "    print(epoch_loss)"
   ],
   "metadata": {
    "collapsed": false,
    "ExecuteTime": {
     "end_time": "2023-12-27T13:06:51.868480Z",
     "start_time": "2023-12-27T13:06:41.964710Z"
    }
   },
   "id": "79ba15a32f4404b8"
  },
  {
   "cell_type": "code",
   "execution_count": 16,
   "outputs": [
    {
     "data": {
      "text/plain": "array([[ 0.03359781,  0.00556464, -0.02036429, -0.00353371,  0.02983522,\n         0.04062473, -0.0265177 ,  0.02377067,  0.02896861,  0.02187634,\n         0.02101985, -0.00378512,  0.04409488,  0.01780474, -0.01042995,\n        -0.0283905 , -0.00841501, -0.03424374,  0.04750529,  0.04571966,\n         0.02443757,  0.0149272 , -0.02584163,  0.02883087,  0.00808491,\n         0.01255376,  0.02344972, -0.01617704,  0.0206243 , -0.01677474,\n         0.02651159,  0.01204531, -0.00907949, -0.02329306,  0.01907434,\n        -0.03028265,  0.01376398,  0.03584677, -0.03591003,  0.00873667,\n        -0.03021492, -0.00811667,  0.03295801, -0.02764265,  0.00910856,\n         0.03212643, -0.0402858 , -0.01002354, -0.01470873,  0.01310274,\n        -0.02111192,  0.03142703,  0.00306499, -0.02450497,  0.03114577,\n        -0.01850175,  0.01334375,  0.01556634, -0.03831568,  0.00034857,\n        -0.02554804,  0.01365387, -0.02186411, -0.00074284,  0.0246483 ,\n        -0.00477251,  0.03193129,  0.0042215 , -0.01004042,  0.02763078,\n        -0.02787778,  0.00239156, -0.00052543, -0.00954132, -0.01100381,\n         0.00867921,  0.01573708,  0.00311358, -0.02503029,  0.00706739,\n        -0.01690444,  0.03214392,  0.01054107, -0.0214085 , -0.0452208 ,\n         0.00469236,  0.01285244,  0.00758635, -0.01772781,  0.00484237,\n        -0.04217852,  0.03738429,  0.0060645 ,  0.00942888,  0.00594469,\n        -0.04146299, -0.04764713, -0.04129215,  0.03050058,  0.01079245,\n         0.00340608, -0.03853558,  0.01798765, -0.03312104,  0.00306117,\n         0.0011671 , -0.03844892, -0.04094451,  0.02567262,  0.01324031,\n         0.02782764, -0.03141442,  0.01746899,  0.03339823,  0.03064256,\n         0.03535673,  0.01758659, -0.00905579,  0.03242867,  0.03361198,\n        -0.00223565,  0.03289287, -0.0113695 , -0.05034927,  0.0219377 ,\n        -0.00919448, -0.03203608, -0.04600858, -0.00881392,  0.01365898,\n         0.01311603,  0.00766745, -0.04339262, -0.02089226, -0.00224218,\n         0.00426474,  0.02265704,  0.01920184,  0.00203835,  0.02145189,\n         0.01640164, -0.04040516,  0.02434273, -0.04133543,  0.00417697,\n         0.01479445,  0.02438235,  0.03630031,  0.02820781,  0.01350655,\n         0.00568112,  0.04184842,  0.00444   ,  0.02489341, -0.03278727,\n         0.00396609, -0.00748832, -0.03278687, -0.02740857,  0.01508243,\n         0.03695548, -0.02316897, -0.02880641, -0.0473813 ,  0.03292542,\n        -0.00945869, -0.02097384, -0.03087375,  0.02760654, -0.00978256,\n         0.00607507,  0.02421723, -0.00248381, -0.00729586, -0.03367113,\n         0.00861772, -0.04198363,  0.0226948 , -0.01290904, -0.02649816,\n        -0.00974668,  0.01645994,  0.02294868, -0.02383532,  0.03172884,\n        -0.0025237 ,  0.00040045, -0.01391914,  0.01306794,  0.00966443,\n        -0.01672737, -0.04210693, -0.03760123,  0.03254331,  0.03235083,\n        -0.00324592,  0.0167104 , -0.01465222,  0.02139735,  0.01008933,\n         0.03742879, -0.03746556, -0.04652688,  0.03641193, -0.02260319,\n        -0.01125964, -0.00520926,  0.00659631, -0.02333884,  0.0131759 ,\n         0.00695188,  0.03334246, -0.01770336, -0.01502945,  0.00465793,\n         0.00024466,  0.00929596,  0.02946635,  0.00713329,  0.03183544,\n         0.00597042, -0.01112924, -0.04464161,  0.02032887,  0.00748296,\n         0.0314645 , -0.0431745 ,  0.02322457,  0.00513817, -0.04188977,\n         0.03504757,  0.02294001, -0.03915217, -0.00893312, -0.04414679,\n         0.00985833, -0.00788497, -0.02312508, -0.02253401, -0.01382507,\n         0.01609197,  0.00575038, -0.04351433,  0.01496758,  0.03634144,\n         0.00991082, -0.03837956,  0.02849342,  0.03620311,  0.01728018,\n        -0.02723784, -0.0368924 ,  0.00477521,  0.00818511,  0.03742012,\n         0.01770555, -0.01081973,  0.00198964,  0.00659854,  0.01420833,\n         0.01394764, -0.00647971,  0.03119663, -0.01585901, -0.02150045,\n        -0.02160037, -0.01984512, -0.00210935,  0.02465795, -0.02534272,\n         0.00202308,  0.04356719,  0.02389004,  0.03604559, -0.02322976,\n         0.03557755,  0.02986995, -0.02198298,  0.00451309,  0.05156054,\n         0.04537521,  0.03315872,  0.00059407, -0.01614575,  0.01025143,\n         0.04144183,  0.02893791, -0.01604181, -0.02531017,  0.01992979,\n         0.0491087 ,  0.04698352,  0.04375745,  0.01744639, -0.00175376,\n        -0.0216122 , -0.01172246,  0.04140702,  0.05460012,  0.02329953,\n         0.01952303, -0.0197776 ,  0.03873413,  0.02975746,  0.04109038,\n        -0.02432555,  0.00889537,  0.04256769, -0.00075556,  0.01617106,\n         0.04601452,  0.02388057, -0.01805134,  0.03020957, -0.00930568,\n         0.04354508,  0.03952723,  0.0139736 , -0.03119237,  0.03227068,\n         0.04903258,  0.01340107, -0.01719685,  0.03046802, -0.02930333,\n        -0.0103528 ,  0.00771783, -0.02420524, -0.00941577,  0.00288313,\n         0.04952189, -0.01836376, -0.01025664, -0.02177404,  0.02088635,\n         0.02248191, -0.00707884,  0.03419122, -0.0169124 ,  0.00408345,\n        -0.01616878, -0.00532712, -0.0303787 , -0.01350574,  0.00580117,\n        -0.00899592,  0.02798927,  0.02889702,  0.01768454,  0.01356221,\n        -0.00300981,  0.00828993, -0.03304794,  0.00277426, -0.02729116,\n        -0.01843564,  0.03134005,  0.02061984, -0.02956827,  0.03302807,\n         0.02719151,  0.03958213, -0.01521579,  0.02031886,  0.036504  ,\n         0.01997119,  0.03732626,  0.02550604, -0.04062737, -0.02016793,\n        -0.01646668, -0.01901268, -0.02984567,  0.00599803,  0.02568458,\n        -0.03378841, -0.02875807,  0.02433596,  0.0389196 , -0.02335605,\n         0.01262282,  0.01521293,  0.02332048, -0.01363783,  0.00651651,\n        -0.02602922,  0.03798173, -0.00773355,  0.00402922,  0.00521377,\n        -0.02733221, -0.00057557, -0.00561357, -0.00056854,  0.00305031,\n        -0.02413125,  0.01542078, -0.01343803,  0.04069392,  0.03458824,\n         0.00627619,  0.02866839,  0.03915571, -0.03560789,  0.04501989,\n         0.02234395, -0.01359236,  0.031908  , -0.02312427,  0.0185938 ,\n         0.03728298,  0.02441556, -0.03686748, -0.01010241,  0.00544347,\n         0.00772931,  0.00319325,  0.04377081, -0.02596111,  0.00993905,\n        -0.03885065,  0.01348865,  0.00624649, -0.02264222, -0.0118985 ,\n         0.02072705,  0.00514408, -0.03692966, -0.01779676, -0.03507301,\n        -0.03913868,  0.03947657,  0.04169736,  0.03419933, -0.02332307,\n         0.03984811,  0.03971653, -0.03617484,  0.02473312,  0.04199039,\n         0.03998053, -0.03626968, -0.00584375,  0.03258963, -0.01998541,\n        -0.0085752 ,  0.02641826, -0.03313624,  0.03619497, -0.03872247,\n        -0.02243026,  0.02595405, -0.03766077,  0.01109355, -0.03795667,\n         0.02650064,  0.0300458 ,  0.01084909, -0.01932564, -0.00588336,\n        -0.01982839,  0.01461782,  0.04038564,  0.03733389, -0.02435779,\n         0.00027095,  0.03388902,  0.02386961, -0.02075939, -0.00823511,\n        -0.00089625, -0.03577451,  0.00369491, -0.0357637 ,  0.03072167,\n        -0.02963257,  0.0303452 ,  0.00681168, -0.02662197, -0.01874617,\n        -0.00992961, -0.03887092,  0.00595223, -0.015762  ,  0.04158468,\n         0.04000361,  0.01787584,  0.01866531,  0.02504217, -0.03559828,\n         0.02378925,  0.00430359,  0.02498734,  0.01022137]],\n      dtype=float32)"
     },
     "execution_count": 16,
     "metadata": {},
     "output_type": "execute_result"
    }
   ],
   "source": [
    "w = model.linear.weight.data.numpy()\n",
    "w"
   ],
   "metadata": {
    "collapsed": false,
    "ExecuteTime": {
     "end_time": "2023-12-27T13:06:54.153573Z",
     "start_time": "2023-12-27T13:06:54.145835Z"
    }
   },
   "id": "f92103cb12b08833"
  },
  {
   "cell_type": "code",
   "execution_count": 17,
   "outputs": [
    {
     "data": {
      "text/plain": "[<matplotlib.lines.Line2D at 0x7f84638508e0>]"
     },
     "execution_count": 17,
     "metadata": {},
     "output_type": "execute_result"
    },
    {
     "data": {
      "text/plain": "<Figure size 640x480 with 1 Axes>",
      "image/png": "[encoded data removed]"
     },
     "metadata": {},
     "output_type": "display_data"
    }
   ],
   "source": [
    "plt.plot(np.matmul(mat_X.transpose(), w.transpose()))\n",
    "plt.plot(y)"
   ],
   "metadata": {
    "collapsed": false,
    "ExecuteTime": {
     "end_time": "2023-12-27T13:06:57.801254Z",
     "start_time": "2023-12-27T13:06:57.578240Z"
    }
   },
   "id": "1e4466c535ac0093"
  },
  {
   "cell_type": "code",
   "execution_count": 19,
   "outputs": [],
   "source": [
    "pd.DataFrame(w).to_csv('weights.csv')"
   ],
   "metadata": {
    "collapsed": false,
    "ExecuteTime": {
     "end_time": "2023-12-27T13:07:30.343492Z",
     "start_time": "2023-12-27T13:07:30.308422Z"
    }
   },
   "id": "1731e354ca021fbb"
  },
  {
   "cell_type": "code",
   "execution_count": 10,
   "outputs": [
    {
     "data": {
      "text/plain": "          0         1         2         3         4         5         6  \\\n0  0.033598  0.005565 -0.020364 -0.003534  0.029835  0.040625 -0.026518   \n\n          7         8         9  ...       484       485       486       487  \\\n0  0.023771  0.028969  0.021876  ...  0.041585  0.040004  0.017876  0.018665   \n\n        488       489       490       491       492       493  \n0  0.025042 -0.035598  0.023789  0.004304  0.024987  0.010221  \n\n[1 rows x 494 columns]",
      "text/html": "<div>\n<style scoped>\n    .dataframe tbody tr th:only-of-type {\n        vertical-align: middle;\n    }\n\n    .dataframe tbody tr th {\n        vertical-align: top;\n    }\n\n    .dataframe thead th {\n        text-align: right;\n    }\n</style>\n<table border=\"1\" class=\"dataframe\">\n  <thead>\n    <tr style=\"text-align: right;\">\n      <th></th>\n      <th>0</th>\n      <th>1</th>\n      <th>2</th>\n      <th>3</th>\n      <th>4</th>\n      <th>5</th>\n      <th>6</th>\n      <th>7</th>\n      <th>8</th>\n      <th>9</th>\n      <th>...</th>\n      <th>484</th>\n      <th>485</th>\n      <th>486</th>\n      <th>487</th>\n      <th>488</th>\n      <th>489</th>\n      <th>490</th>\n      <th>491</th>\n      <th>492</th>\n      <th>493</th>\n    </tr>\n  </thead>\n  <tbody>\n    <tr>\n      <th>0</th>\n      <td>0.033598</td>\n      <td>0.005565</td>\n      <td>-0.020364</td>\n      <td>-0.003534</td>\n      <td>0.029835</td>\n      <td>0.040625</td>\n      <td>-0.026518</td>\n      <td>0.023771</td>\n      <td>0.028969</td>\n      <td>0.021876</td>\n      <td>...</td>\n      <td>0.041585</td>\n      <td>0.040004</td>\n      <td>0.017876</td>\n      <td>0.018665</td>\n      <td>0.025042</td>\n      <td>-0.035598</td>\n      <td>0.023789</td>\n      <td>0.004304</td>\n      <td>0.024987</td>\n      <td>0.010221</td>\n    </tr>\n  </tbody>\n</table>\n<p>1 rows × 494 columns</p>\n</div>"
     },
     "execution_count": 10,
     "metadata": {},
     "output_type": "execute_result"
    }
   ],
   "source": [
    "w = pd.read_csv('weights.csv', index_col=[0])\n",
    "w"
   ],
   "metadata": {
    "collapsed": false,
    "ExecuteTime": {
     "end_time": "2023-12-28T03:34:26.702735Z",
     "start_time": "2023-12-28T03:34:26.658681Z"
    }
   },
   "id": "58305946b0b7ed8f"
  },
  {
   "cell_type": "code",
   "execution_count": 12,
   "outputs": [],
   "source": [
    "import matplotlib as mpl\n",
    "mpl.style.use('classic')"
   ],
   "metadata": {
    "collapsed": false,
    "ExecuteTime": {
     "end_time": "2023-12-28T03:35:24.290769Z",
     "start_time": "2023-12-28T03:35:24.286232Z"
    }
   },
   "id": "b9a69053572c98f6"
  },
  {
   "cell_type": "code",
   "execution_count": 22,
   "outputs": [
    {
     "name": "stderr",
     "output_type": "stream",
     "text": [
      "/var/folders/s0/gcg7k5ws6hxfgnzww6_ryn0c0000gn/T/ipykernel_6750/1145895814.py:25: UserWarning: FixedFormatter should only be used together with FixedLocator\n",
      "  ax.set_yticklabels(['{:,.0%}'.format(x) for x in vals_y])\n",
      "/var/folders/s0/gcg7k5ws6hxfgnzww6_ryn0c0000gn/T/ipykernel_6750/1145895814.py:27: UserWarning: FixedFormatter should only be used together with FixedLocator\n",
      "  ax.set_xticklabels(['{:,.0%}'.format(x) for x in vals_x])\n"
     ]
    },
    {
     "data": {
      "text/plain": "<Figure size 400x240 with 1 Axes>",
      "image/png": "[encoded data removed]"
     },
     "metadata": {},
     "output_type": "display_data"
    }
   ],
   "source": [
    "f = plt.figure(figsize=(5,3))\n",
    "# Setting the background color of the plot \n",
    "ax = plt.axes()\n",
    "# ax.set_facecolor(\"#F0EEDC\")\n",
    "\n",
    "x = np.linspace(0, 5, 100)\n",
    "y = 2 * np.sqrt(x) / (x + 1) - 1\n",
    "h = np.matmul(mat_X.transpose(), np.array(w).transpose())\n",
    "\n",
    "plt.plot(x, y, color='#4B5569')\n",
    "plt.axhline(color='#4B5569')\n",
    "\n",
    "plt.plot(x, h, color='#DBAD4F')\n",
    "plt.axhline(color='#DBAD4F')\n",
    "\n",
    "ax.set_ylim(-1.05, 0.75)\n",
    "plt.xlim(0, 5)\n",
    "\n",
    "ax.fill_between(x, 0, y, color='#4B5569')\n",
    "ax.fill_between(x, 0, h.transpose().tolist()[0], color='#DBAD4F')\n",
    "\n",
    "plt.rcParams.update({'font.sans-serif':'DejaVu Sans'})\n",
    "\n",
    "vals_y = ax.get_yticks()\n",
    "ax.set_yticklabels(['{:,.0%}'.format(x) for x in vals_y])\n",
    "vals_x = ax.get_xticks()\n",
    "ax.set_xticklabels(['{:,.0%}'.format(x) for x in vals_x])\n",
    "\n",
    "plt.ylabel('Change in Total Liquidity value')\n",
    "plt.xlabel('Current Price as Percentage of Initial Price')\n",
    "plt.savefig('./img/IL_hedge.png', dpi=500, bbox_inches='tight', transparent=True)"
   ],
   "metadata": {
    "collapsed": false,
    "ExecuteTime": {
     "end_time": "2023-12-28T04:00:11.842834Z",
     "start_time": "2023-12-28T04:00:11.306518Z"
    }
   },
   "id": "7829a68c40ca2b23"
  },
  {
   "cell_type": "code",
   "execution_count": 24,
   "outputs": [
    {
     "name": "stderr",
     "output_type": "stream",
     "text": [
      "/var/folders/s0/gcg7k5ws6hxfgnzww6_ryn0c0000gn/T/ipykernel_6750/3910872471.py:22: UserWarning: FixedFormatter should only be used together with FixedLocator\n",
      "  ax.set_yticklabels(['{:,.0%}'.format(x) for x in vals_y])\n",
      "/var/folders/s0/gcg7k5ws6hxfgnzww6_ryn0c0000gn/T/ipykernel_6750/3910872471.py:24: UserWarning: FixedFormatter should only be used together with FixedLocator\n",
      "  ax.set_xticklabels(['{:,.0%}'.format(x) for x in vals_x])\n"
     ]
    },
    {
     "data": {
      "text/plain": "<Figure size 400x240 with 1 Axes>",
      "image/png": "[encoded data removed]"
     },
     "metadata": {},
     "output_type": "display_data"
    }
   ],
   "source": [
    "f = plt.figure(figsize=(5,3))\n",
    "# Setting the background color of the plot \n",
    "ax = plt.axes()\n",
    "# ax.set_facecolor(\"#F0EEDC\")\n",
    "\n",
    "x = np.linspace(0, 5, 100)\n",
    "y = 2 * np.sqrt(x) / (x + 1) - 1\n",
    "h = np.matmul(mat_X.transpose(), np.array(w).transpose())\n",
    "\n",
    "plt.plot(x, h.transpose().tolist()[0] + y, color='#242749')\n",
    "plt.axhline(color='#242749')\n",
    "\n",
    "ax.set_ylim(-0.45, 0.25)\n",
    "plt.xlim(0, 5)\n",
    "\n",
    "ax.fill_between(x, 0, h.transpose().tolist()[0] + y, color='#242749', alpha=0.8)\n",
    "# ax.fill_between(x, 0, h.transpose().tolist()[0], color='#DBAD4F')\n",
    "\n",
    "plt.rcParams.update({'font.sans-serif':'DejaVu Sans'})\n",
    "\n",
    "vals_y = ax.get_yticks()\n",
    "ax.set_yticklabels(['{:,.0%}'.format(x) for x in vals_y])\n",
    "vals_x = ax.get_xticks()\n",
    "ax.set_xticklabels(['{:,.0%}'.format(x) for x in vals_x])\n",
    "\n",
    "plt.ylabel('Change in Total Liquidity value')\n",
    "plt.xlabel('Current Price as Percentage of Initial Price')\n",
    "plt.savefig('./img/IL_hedge_loss.png', dpi=500, bbox_inches='tight', transparent=True)"
   ],
   "metadata": {
    "collapsed": false,
    "ExecuteTime": {
     "end_time": "2023-12-28T04:55:48.801481Z",
     "start_time": "2023-12-28T04:55:48.236756Z"
    }
   },
   "id": "9c1649f4a425f9ce"
  },
  {
   "cell_type": "code",
   "execution_count": 9,
   "outputs": [
    {
     "data": {
      "text/plain": "[<matplotlib.lines.Line2D at 0x7fe246d76520>]"
     },
     "execution_count": 9,
     "metadata": {},
     "output_type": "execute_result"
    },
    {
     "data": {
      "text/plain": "<Figure size 640x480 with 1 Axes>",
      "image/png": "[encoded data removed]"
     },
     "metadata": {},
     "output_type": "display_data"
    }
   ],
   "source": [
    "plt.plot(np.matmul(mat_X.transpose(), np.array(w).transpose()))\n",
    "plt.plot(y)"
   ],
   "metadata": {
    "collapsed": false,
    "ExecuteTime": {
     "end_time": "2023-12-28T03:20:05.670971Z",
     "start_time": "2023-12-28T03:20:05.400303Z"
    }
   },
   "id": "8d3d1a28c7e92737"
  },
  {
   "cell_type": "markdown",
   "source": [],
   "metadata": {
    "collapsed": false
   },
   "id": "1b934fdf2230db3a"
  }
 ],
 "metadata": {
  "kernelspec": {
   "name": "python3",
   "language": "python",
   "display_name": "Python 3 (ipykernel)"
  },
  "language_info": {
   "codemirror_mode": {
    "name": "ipython",
    "version": 2
   },
   "file_extension": ".py",
   "mimetype": "text/x-python",
   "name": "python",
   "nbconvert_exporter": "python",
   "pygments_lexer": "ipython2",
   "version": "2.7.6"
  }
 },
 "nbformat": 4,
 "nbformat_minor": 5
}
